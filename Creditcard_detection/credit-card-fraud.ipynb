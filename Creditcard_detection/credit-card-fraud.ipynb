{
 "cells": [
  {
   "cell_type": "markdown",
   "id": "17c5ddf6",
   "metadata": {
    "papermill": {
     "duration": 0.019704,
     "end_time": "2023-11-03T12:47:45.563391",
     "exception": false,
     "start_time": "2023-11-03T12:47:45.543687",
     "status": "completed"
    },
    "tags": []
   },
   "source": [
    "# **Credit Card Fraud Detection**"
   ]
  },
  {
   "cell_type": "markdown",
   "id": "05e7291a",
   "metadata": {
    "papermill": {
     "duration": 0.017485,
     "end_time": "2023-11-03T12:47:45.598984",
     "exception": false,
     "start_time": "2023-11-03T12:47:45.581499",
     "status": "completed"
    },
    "tags": []
   },
   "source": [
    "# Importing necessary libraries"
   ]
  },
  {
   "cell_type": "code",
   "execution_count": 1,
   "id": "9203ecd7",
   "metadata": {
    "_cell_guid": "b1076dfc-b9ad-4769-8c92-a6c4dae69d19",
    "_uuid": "8f2839f25d086af736a60e9eeb907d3b93b6e0e5",
    "execution": {
     "iopub.execute_input": "2023-11-03T12:47:45.636059Z",
     "iopub.status.busy": "2023-11-03T12:47:45.635472Z",
     "iopub.status.idle": "2023-11-03T12:47:47.850304Z",
     "shell.execute_reply": "2023-11-03T12:47:47.849278Z"
    },
    "papermill": {
     "duration": 2.236377,
     "end_time": "2023-11-03T12:47:47.852949",
     "exception": false,
     "start_time": "2023-11-03T12:47:45.616572",
     "status": "completed"
    },
    "tags": []
   },
   "outputs": [
    {
     "name": "stdout",
     "output_type": "stream",
     "text": [
      "/kaggle/input/fraud-detection/fraudTest.csv\n",
      "/kaggle/input/fraud-detection/fraudTrain.csv\n"
     ]
    }
   ],
   "source": [
    "import numpy as np # linear algebra\n",
    "import pandas as pd # data processing, CSV file I/O (e.g. pd.read_csv)\n",
    "from sklearn.model_selection import train_test_split\n",
    "from sklearn.linear_model import LogisticRegression\n",
    "from sklearn.metrics import accuracy_score\n",
    "import seaborn as sns\n",
    "import matplotlib.pyplot as plt\n",
    "import os\n",
    "for dirname, _, filenames in os.walk('/kaggle/input'):\n",
    "    for filename in filenames:\n",
    "        print(os.path.join(dirname, filename))"
   ]
  },
  {
   "cell_type": "code",
   "execution_count": 2,
   "id": "41a59718",
   "metadata": {
    "execution": {
     "iopub.execute_input": "2023-11-03T12:47:47.890498Z",
     "iopub.status.busy": "2023-11-03T12:47:47.889689Z",
     "iopub.status.idle": "2023-11-03T12:48:00.060818Z",
     "shell.execute_reply": "2023-11-03T12:48:00.059671Z"
    },
    "papermill": {
     "duration": 12.192746,
     "end_time": "2023-11-03T12:48:00.063183",
     "exception": false,
     "start_time": "2023-11-03T12:47:47.870437",
     "status": "completed"
    },
    "tags": []
   },
   "outputs": [
    {
     "data": {
      "text/plain": [
       "(1296675, 23)"
      ]
     },
     "execution_count": 2,
     "metadata": {},
     "output_type": "execute_result"
    }
   ],
   "source": [
    "df_train = pd.read_csv('/kaggle/input/fraud-detection/fraudTrain.csv')\n",
    "df_train.shape"
   ]
  },
  {
   "cell_type": "code",
   "execution_count": 3,
   "id": "4dabc300",
   "metadata": {
    "execution": {
     "iopub.execute_input": "2023-11-03T12:48:00.102174Z",
     "iopub.status.busy": "2023-11-03T12:48:00.101759Z",
     "iopub.status.idle": "2023-11-03T12:48:00.141134Z",
     "shell.execute_reply": "2023-11-03T12:48:00.139978Z"
    },
    "papermill": {
     "duration": 0.06183,
     "end_time": "2023-11-03T12:48:00.143489",
     "exception": false,
     "start_time": "2023-11-03T12:48:00.081659",
     "status": "completed"
    },
    "tags": []
   },
   "outputs": [
    {
     "data": {
      "text/html": [
       "<div>\n",
       "<style scoped>\n",
       "    .dataframe tbody tr th:only-of-type {\n",
       "        vertical-align: middle;\n",
       "    }\n",
       "\n",
       "    .dataframe tbody tr th {\n",
       "        vertical-align: top;\n",
       "    }\n",
       "\n",
       "    .dataframe thead th {\n",
       "        text-align: right;\n",
       "    }\n",
       "</style>\n",
       "<table border=\"1\" class=\"dataframe\">\n",
       "  <thead>\n",
       "    <tr style=\"text-align: right;\">\n",
       "      <th></th>\n",
       "      <th>Unnamed: 0</th>\n",
       "      <th>trans_date_trans_time</th>\n",
       "      <th>cc_num</th>\n",
       "      <th>merchant</th>\n",
       "      <th>category</th>\n",
       "      <th>amt</th>\n",
       "      <th>first</th>\n",
       "      <th>last</th>\n",
       "      <th>gender</th>\n",
       "      <th>street</th>\n",
       "      <th>...</th>\n",
       "      <th>lat</th>\n",
       "      <th>long</th>\n",
       "      <th>city_pop</th>\n",
       "      <th>job</th>\n",
       "      <th>dob</th>\n",
       "      <th>trans_num</th>\n",
       "      <th>unix_time</th>\n",
       "      <th>merch_lat</th>\n",
       "      <th>merch_long</th>\n",
       "      <th>is_fraud</th>\n",
       "    </tr>\n",
       "  </thead>\n",
       "  <tbody>\n",
       "    <tr>\n",
       "      <th>0</th>\n",
       "      <td>0</td>\n",
       "      <td>2019-01-01 00:00:18</td>\n",
       "      <td>2703186189652095</td>\n",
       "      <td>fraud_Rippin, Kub and Mann</td>\n",
       "      <td>misc_net</td>\n",
       "      <td>4.97</td>\n",
       "      <td>Jennifer</td>\n",
       "      <td>Banks</td>\n",
       "      <td>F</td>\n",
       "      <td>561 Perry Cove</td>\n",
       "      <td>...</td>\n",
       "      <td>36.0788</td>\n",
       "      <td>-81.1781</td>\n",
       "      <td>3495</td>\n",
       "      <td>Psychologist, counselling</td>\n",
       "      <td>1988-03-09</td>\n",
       "      <td>0b242abb623afc578575680df30655b9</td>\n",
       "      <td>1325376018</td>\n",
       "      <td>36.011293</td>\n",
       "      <td>-82.048315</td>\n",
       "      <td>0</td>\n",
       "    </tr>\n",
       "    <tr>\n",
       "      <th>1</th>\n",
       "      <td>1</td>\n",
       "      <td>2019-01-01 00:00:44</td>\n",
       "      <td>630423337322</td>\n",
       "      <td>fraud_Heller, Gutmann and Zieme</td>\n",
       "      <td>grocery_pos</td>\n",
       "      <td>107.23</td>\n",
       "      <td>Stephanie</td>\n",
       "      <td>Gill</td>\n",
       "      <td>F</td>\n",
       "      <td>43039 Riley Greens Suite 393</td>\n",
       "      <td>...</td>\n",
       "      <td>48.8878</td>\n",
       "      <td>-118.2105</td>\n",
       "      <td>149</td>\n",
       "      <td>Special educational needs teacher</td>\n",
       "      <td>1978-06-21</td>\n",
       "      <td>1f76529f8574734946361c461b024d99</td>\n",
       "      <td>1325376044</td>\n",
       "      <td>49.159047</td>\n",
       "      <td>-118.186462</td>\n",
       "      <td>0</td>\n",
       "    </tr>\n",
       "    <tr>\n",
       "      <th>2</th>\n",
       "      <td>2</td>\n",
       "      <td>2019-01-01 00:00:51</td>\n",
       "      <td>38859492057661</td>\n",
       "      <td>fraud_Lind-Buckridge</td>\n",
       "      <td>entertainment</td>\n",
       "      <td>220.11</td>\n",
       "      <td>Edward</td>\n",
       "      <td>Sanchez</td>\n",
       "      <td>M</td>\n",
       "      <td>594 White Dale Suite 530</td>\n",
       "      <td>...</td>\n",
       "      <td>42.1808</td>\n",
       "      <td>-112.2620</td>\n",
       "      <td>4154</td>\n",
       "      <td>Nature conservation officer</td>\n",
       "      <td>1962-01-19</td>\n",
       "      <td>a1a22d70485983eac12b5b88dad1cf95</td>\n",
       "      <td>1325376051</td>\n",
       "      <td>43.150704</td>\n",
       "      <td>-112.154481</td>\n",
       "      <td>0</td>\n",
       "    </tr>\n",
       "    <tr>\n",
       "      <th>3</th>\n",
       "      <td>3</td>\n",
       "      <td>2019-01-01 00:01:16</td>\n",
       "      <td>3534093764340240</td>\n",
       "      <td>fraud_Kutch, Hermiston and Farrell</td>\n",
       "      <td>gas_transport</td>\n",
       "      <td>45.00</td>\n",
       "      <td>Jeremy</td>\n",
       "      <td>White</td>\n",
       "      <td>M</td>\n",
       "      <td>9443 Cynthia Court Apt. 038</td>\n",
       "      <td>...</td>\n",
       "      <td>46.2306</td>\n",
       "      <td>-112.1138</td>\n",
       "      <td>1939</td>\n",
       "      <td>Patent attorney</td>\n",
       "      <td>1967-01-12</td>\n",
       "      <td>6b849c168bdad6f867558c3793159a81</td>\n",
       "      <td>1325376076</td>\n",
       "      <td>47.034331</td>\n",
       "      <td>-112.561071</td>\n",
       "      <td>0</td>\n",
       "    </tr>\n",
       "    <tr>\n",
       "      <th>4</th>\n",
       "      <td>4</td>\n",
       "      <td>2019-01-01 00:03:06</td>\n",
       "      <td>375534208663984</td>\n",
       "      <td>fraud_Keeling-Crist</td>\n",
       "      <td>misc_pos</td>\n",
       "      <td>41.96</td>\n",
       "      <td>Tyler</td>\n",
       "      <td>Garcia</td>\n",
       "      <td>M</td>\n",
       "      <td>408 Bradley Rest</td>\n",
       "      <td>...</td>\n",
       "      <td>38.4207</td>\n",
       "      <td>-79.4629</td>\n",
       "      <td>99</td>\n",
       "      <td>Dance movement psychotherapist</td>\n",
       "      <td>1986-03-28</td>\n",
       "      <td>a41d7549acf90789359a9aa5346dcb46</td>\n",
       "      <td>1325376186</td>\n",
       "      <td>38.674999</td>\n",
       "      <td>-78.632459</td>\n",
       "      <td>0</td>\n",
       "    </tr>\n",
       "  </tbody>\n",
       "</table>\n",
       "<p>5 rows × 23 columns</p>\n",
       "</div>"
      ],
      "text/plain": [
       "   Unnamed: 0 trans_date_trans_time            cc_num  \\\n",
       "0           0   2019-01-01 00:00:18  2703186189652095   \n",
       "1           1   2019-01-01 00:00:44      630423337322   \n",
       "2           2   2019-01-01 00:00:51    38859492057661   \n",
       "3           3   2019-01-01 00:01:16  3534093764340240   \n",
       "4           4   2019-01-01 00:03:06   375534208663984   \n",
       "\n",
       "                             merchant       category     amt      first  \\\n",
       "0          fraud_Rippin, Kub and Mann       misc_net    4.97   Jennifer   \n",
       "1     fraud_Heller, Gutmann and Zieme    grocery_pos  107.23  Stephanie   \n",
       "2                fraud_Lind-Buckridge  entertainment  220.11     Edward   \n",
       "3  fraud_Kutch, Hermiston and Farrell  gas_transport   45.00     Jeremy   \n",
       "4                 fraud_Keeling-Crist       misc_pos   41.96      Tyler   \n",
       "\n",
       "      last gender                        street  ...      lat      long  \\\n",
       "0    Banks      F                561 Perry Cove  ...  36.0788  -81.1781   \n",
       "1     Gill      F  43039 Riley Greens Suite 393  ...  48.8878 -118.2105   \n",
       "2  Sanchez      M      594 White Dale Suite 530  ...  42.1808 -112.2620   \n",
       "3    White      M   9443 Cynthia Court Apt. 038  ...  46.2306 -112.1138   \n",
       "4   Garcia      M              408 Bradley Rest  ...  38.4207  -79.4629   \n",
       "\n",
       "   city_pop                                job         dob  \\\n",
       "0      3495          Psychologist, counselling  1988-03-09   \n",
       "1       149  Special educational needs teacher  1978-06-21   \n",
       "2      4154        Nature conservation officer  1962-01-19   \n",
       "3      1939                    Patent attorney  1967-01-12   \n",
       "4        99     Dance movement psychotherapist  1986-03-28   \n",
       "\n",
       "                          trans_num   unix_time  merch_lat  merch_long  \\\n",
       "0  0b242abb623afc578575680df30655b9  1325376018  36.011293  -82.048315   \n",
       "1  1f76529f8574734946361c461b024d99  1325376044  49.159047 -118.186462   \n",
       "2  a1a22d70485983eac12b5b88dad1cf95  1325376051  43.150704 -112.154481   \n",
       "3  6b849c168bdad6f867558c3793159a81  1325376076  47.034331 -112.561071   \n",
       "4  a41d7549acf90789359a9aa5346dcb46  1325376186  38.674999  -78.632459   \n",
       "\n",
       "   is_fraud  \n",
       "0         0  \n",
       "1         0  \n",
       "2         0  \n",
       "3         0  \n",
       "4         0  \n",
       "\n",
       "[5 rows x 23 columns]"
      ]
     },
     "execution_count": 3,
     "metadata": {},
     "output_type": "execute_result"
    }
   ],
   "source": [
    "df_train.head()"
   ]
  },
  {
   "cell_type": "code",
   "execution_count": 4,
   "id": "a81c6616",
   "metadata": {
    "execution": {
     "iopub.execute_input": "2023-11-03T12:48:00.183094Z",
     "iopub.status.busy": "2023-11-03T12:48:00.182680Z",
     "iopub.status.idle": "2023-11-03T12:48:00.191470Z",
     "shell.execute_reply": "2023-11-03T12:48:00.190380Z"
    },
    "papermill": {
     "duration": 0.031237,
     "end_time": "2023-11-03T12:48:00.193692",
     "exception": false,
     "start_time": "2023-11-03T12:48:00.162455",
     "status": "completed"
    },
    "tags": []
   },
   "outputs": [
    {
     "data": {
      "text/plain": [
       "Unnamed: 0                 int64\n",
       "trans_date_trans_time     object\n",
       "cc_num                     int64\n",
       "merchant                  object\n",
       "category                  object\n",
       "amt                      float64\n",
       "first                     object\n",
       "last                      object\n",
       "gender                    object\n",
       "street                    object\n",
       "city                      object\n",
       "state                     object\n",
       "zip                        int64\n",
       "lat                      float64\n",
       "long                     float64\n",
       "city_pop                   int64\n",
       "job                       object\n",
       "dob                       object\n",
       "trans_num                 object\n",
       "unix_time                  int64\n",
       "merch_lat                float64\n",
       "merch_long               float64\n",
       "is_fraud                   int64\n",
       "dtype: object"
      ]
     },
     "execution_count": 4,
     "metadata": {},
     "output_type": "execute_result"
    }
   ],
   "source": [
    "df_train.dtypes"
   ]
  },
  {
   "cell_type": "markdown",
   "id": "a9ad557c",
   "metadata": {
    "papermill": {
     "duration": 0.019085,
     "end_time": "2023-11-03T12:48:00.231901",
     "exception": false,
     "start_time": "2023-11-03T12:48:00.212816",
     "status": "completed"
    },
    "tags": []
   },
   "source": [
    "**Checking if any missing values present in the dataset**"
   ]
  },
  {
   "cell_type": "code",
   "execution_count": 5,
   "id": "b4fa4de6",
   "metadata": {
    "execution": {
     "iopub.execute_input": "2023-11-03T12:48:00.273177Z",
     "iopub.status.busy": "2023-11-03T12:48:00.272338Z",
     "iopub.status.idle": "2023-11-03T12:48:01.881054Z",
     "shell.execute_reply": "2023-11-03T12:48:01.879953Z"
    },
    "papermill": {
     "duration": 1.632511,
     "end_time": "2023-11-03T12:48:01.883621",
     "exception": false,
     "start_time": "2023-11-03T12:48:00.251110",
     "status": "completed"
    },
    "tags": []
   },
   "outputs": [
    {
     "data": {
      "text/plain": [
       "Unnamed: 0               0\n",
       "trans_date_trans_time    0\n",
       "cc_num                   0\n",
       "merchant                 0\n",
       "category                 0\n",
       "amt                      0\n",
       "first                    0\n",
       "last                     0\n",
       "gender                   0\n",
       "street                   0\n",
       "city                     0\n",
       "state                    0\n",
       "zip                      0\n",
       "lat                      0\n",
       "long                     0\n",
       "city_pop                 0\n",
       "job                      0\n",
       "dob                      0\n",
       "trans_num                0\n",
       "unix_time                0\n",
       "merch_lat                0\n",
       "merch_long               0\n",
       "is_fraud                 0\n",
       "dtype: int64"
      ]
     },
     "execution_count": 5,
     "metadata": {},
     "output_type": "execute_result"
    }
   ],
   "source": [
    "df_train.isnull().sum()"
   ]
  },
  {
   "cell_type": "markdown",
   "id": "8298b335",
   "metadata": {
    "papermill": {
     "duration": 0.019773,
     "end_time": "2023-11-03T12:48:01.922682",
     "exception": false,
     "start_time": "2023-11-03T12:48:01.902909",
     "status": "completed"
    },
    "tags": []
   },
   "source": [
    "**Total genuine and fraud transactions**"
   ]
  },
  {
   "cell_type": "code",
   "execution_count": 6,
   "id": "54653220",
   "metadata": {
    "execution": {
     "iopub.execute_input": "2023-11-03T12:48:01.962452Z",
     "iopub.status.busy": "2023-11-03T12:48:01.962047Z",
     "iopub.status.idle": "2023-11-03T12:48:02.264482Z",
     "shell.execute_reply": "2023-11-03T12:48:02.263400Z"
    },
    "papermill": {
     "duration": 0.324997,
     "end_time": "2023-11-03T12:48:02.266657",
     "exception": false,
     "start_time": "2023-11-03T12:48:01.941660",
     "status": "completed"
    },
    "tags": []
   },
   "outputs": [
    {
     "data": {
      "text/plain": [
       "<Axes: xlabel='is_fraud'>"
      ]
     },
     "execution_count": 6,
     "metadata": {},
     "output_type": "execute_result"
    },
    {
     "data": {
      "image/png": "[encoded data removed]",
      "text/plain": [
       "<Figure size 640x480 with 1 Axes>"
      ]
     },
     "metadata": {},
     "output_type": "display_data"
    }
   ],
   "source": [
    "cnt =df_train['is_fraud'].value_counts()\n",
    "prp = df_train['is_fraud'].value_counts(normalize =True)*100\n",
    "t = pd.concat([cnt,prp],axis=1)\n",
    "t.index=['Genuine','Fraud']\n",
    "prp.plot(kind='bar')"
   ]
  },
  {
   "cell_type": "markdown",
   "id": "27f717d7",
   "metadata": {
    "papermill": {
     "duration": 0.019252,
     "end_time": "2023-11-03T12:48:02.305319",
     "exception": false,
     "start_time": "2023-11-03T12:48:02.286067",
     "status": "completed"
    },
    "tags": []
   },
   "source": [
    "**Checking for duplicated records**"
   ]
  },
  {
   "cell_type": "code",
   "execution_count": 7,
   "id": "8a789e2e",
   "metadata": {
    "execution": {
     "iopub.execute_input": "2023-11-03T12:48:02.401113Z",
     "iopub.status.busy": "2023-11-03T12:48:02.400719Z",
     "iopub.status.idle": "2023-11-03T12:48:05.969354Z",
     "shell.execute_reply": "2023-11-03T12:48:05.968194Z"
    },
    "papermill": {
     "duration": 3.592081,
     "end_time": "2023-11-03T12:48:05.971899",
     "exception": false,
     "start_time": "2023-11-03T12:48:02.379818",
     "status": "completed"
    },
    "tags": []
   },
   "outputs": [
    {
     "data": {
      "text/plain": [
       "0"
      ]
     },
     "execution_count": 7,
     "metadata": {},
     "output_type": "execute_result"
    }
   ],
   "source": [
    "df_train.duplicated().sum()"
   ]
  },
  {
   "cell_type": "markdown",
   "id": "c630db00",
   "metadata": {
    "papermill": {
     "duration": 0.01964,
     "end_time": "2023-11-03T12:48:06.011569",
     "exception": false,
     "start_time": "2023-11-03T12:48:05.991929",
     "status": "completed"
    },
    "tags": []
   },
   "source": [
    "**The columns like 'cc_num', 'first', 'last', 'trans_num' don't provide significant relevant information related to fraud detection. So, we drop it.**"
   ]
  },
  {
   "cell_type": "markdown",
   "id": "ab027714",
   "metadata": {
    "papermill": {
     "duration": 0.01954,
     "end_time": "2023-11-03T12:48:06.051187",
     "exception": false,
     "start_time": "2023-11-03T12:48:06.031647",
     "status": "completed"
    },
    "tags": []
   },
   "source": [
    "**Dropping few columns**"
   ]
  },
  {
   "cell_type": "code",
   "execution_count": 8,
   "id": "8dad2263",
   "metadata": {
    "execution": {
     "iopub.execute_input": "2023-11-03T12:48:06.093543Z",
     "iopub.status.busy": "2023-11-03T12:48:06.093095Z",
     "iopub.status.idle": "2023-11-03T12:48:06.258605Z",
     "shell.execute_reply": "2023-11-03T12:48:06.257460Z"
    },
    "papermill": {
     "duration": 0.1898,
     "end_time": "2023-11-03T12:48:06.261323",
     "exception": false,
     "start_time": "2023-11-03T12:48:06.071523",
     "status": "completed"
    },
    "tags": []
   },
   "outputs": [
    {
     "name": "stdout",
     "output_type": "stream",
     "text": [
      "Index(['Unnamed: 0', 'trans_date_trans_time', 'cc_num', 'merchant', 'category',\n",
      "       'amt', 'first', 'last', 'gender', 'street', 'city', 'state', 'zip',\n",
      "       'lat', 'long', 'city_pop', 'job', 'dob', 'trans_num', 'unix_time',\n",
      "       'merch_lat', 'merch_long', 'is_fraud'],\n",
      "      dtype='object')\n",
      "Index(['trans_date_trans_time', 'cc_num', 'merchant', 'category', 'amt',\n",
      "       'gender', 'street', 'city', 'state', 'zip', 'lat', 'long', 'city_pop',\n",
      "       'dob', 'unix_time', 'merch_lat', 'merch_long', 'is_fraud'],\n",
      "      dtype='object')\n"
     ]
    }
   ],
   "source": [
    "print(df_train.columns)\n",
    "df_train.drop(['Unnamed: 0','first','last','trans_num','job'],axis = 1,inplace =True)\n",
    "print(df_train.columns)"
   ]
  },
  {
   "cell_type": "markdown",
   "id": "95f1964f",
   "metadata": {
    "papermill": {
     "duration": 0.01986,
     "end_time": "2023-11-03T12:48:06.301404",
     "exception": false,
     "start_time": "2023-11-03T12:48:06.281544",
     "status": "completed"
    },
    "tags": []
   },
   "source": [
    "**We convert the transaction date and time to separate columns which includes hour, day of a week and month**"
   ]
  },
  {
   "cell_type": "code",
   "execution_count": 9,
   "id": "3638ec61",
   "metadata": {
    "execution": {
     "iopub.execute_input": "2023-11-03T12:48:06.343713Z",
     "iopub.status.busy": "2023-11-03T12:48:06.342613Z",
     "iopub.status.idle": "2023-11-03T12:48:07.262435Z",
     "shell.execute_reply": "2023-11-03T12:48:07.261212Z"
    },
    "papermill": {
     "duration": 0.94409,
     "end_time": "2023-11-03T12:48:07.265283",
     "exception": false,
     "start_time": "2023-11-03T12:48:06.321193",
     "status": "completed"
    },
    "tags": []
   },
   "outputs": [],
   "source": [
    "df_train['trans_date_trans_time'] = pd.to_datetime(df_train['trans_date_trans_time'])\n",
    "df_train['Hour'] = df_train['trans_date_trans_time'].dt.hour\n",
    "df_train['Day_of_week']= df_train['trans_date_trans_time'].dt.dayofweek\n",
    "df_train['Month']=df_train['trans_date_trans_time'].dt.month"
   ]
  },
  {
   "cell_type": "code",
   "execution_count": 10,
   "id": "7a2d99ff",
   "metadata": {
    "execution": {
     "iopub.execute_input": "2023-11-03T12:48:07.307506Z",
     "iopub.status.busy": "2023-11-03T12:48:07.307094Z",
     "iopub.status.idle": "2023-11-03T12:48:07.740819Z",
     "shell.execute_reply": "2023-11-03T12:48:07.739771Z"
    },
    "papermill": {
     "duration": 0.457891,
     "end_time": "2023-11-03T12:48:07.743465",
     "exception": false,
     "start_time": "2023-11-03T12:48:07.285574",
     "status": "completed"
    },
    "tags": []
   },
   "outputs": [
    {
     "data": {
      "text/plain": [
       "0         1988-03-09\n",
       "1         1978-06-21\n",
       "2         1962-01-19\n",
       "3         1967-01-12\n",
       "4         1986-03-28\n",
       "             ...    \n",
       "1296670   1961-11-24\n",
       "1296671   1979-12-11\n",
       "1296672   1967-08-30\n",
       "1296673   1980-08-18\n",
       "1296674   1995-08-16\n",
       "Name: dob, Length: 1296675, dtype: datetime64[ns]"
      ]
     },
     "execution_count": 10,
     "metadata": {},
     "output_type": "execute_result"
    }
   ],
   "source": [
    "df_train['dob']=pd.to_datetime(df_train['dob'])\n",
    "df_train['dob']"
   ]
  },
  {
   "cell_type": "markdown",
   "id": "4adf160c",
   "metadata": {
    "papermill": {
     "duration": 0.019036,
     "end_time": "2023-11-03T12:48:07.782850",
     "exception": false,
     "start_time": "2023-11-03T12:48:07.763814",
     "status": "completed"
    },
    "tags": []
   },
   "source": [
    "# Mean amount in fraud and normal transactions"
   ]
  },
  {
   "cell_type": "code",
   "execution_count": 11,
   "id": "28dfcdb0",
   "metadata": {
    "execution": {
     "iopub.execute_input": "2023-11-03T12:48:07.824503Z",
     "iopub.status.busy": "2023-11-03T12:48:07.823256Z",
     "iopub.status.idle": "2023-11-03T12:48:07.864965Z",
     "shell.execute_reply": "2023-11-03T12:48:07.863592Z"
    },
    "papermill": {
     "duration": 0.065427,
     "end_time": "2023-11-03T12:48:07.867668",
     "exception": false,
     "start_time": "2023-11-03T12:48:07.802241",
     "status": "completed"
    },
    "tags": []
   },
   "outputs": [
    {
     "data": {
      "text/plain": [
       "is_fraud\n",
       "0     67.667110\n",
       "1    531.320092\n",
       "Name: amt, dtype: float64"
      ]
     },
     "execution_count": 11,
     "metadata": {},
     "output_type": "execute_result"
    }
   ],
   "source": [
    "df_train.groupby('is_fraud')['amt'].mean()"
   ]
  },
  {
   "cell_type": "markdown",
   "id": "65adb5bc",
   "metadata": {
    "papermill": {
     "duration": 0.020137,
     "end_time": "2023-11-03T12:48:07.908628",
     "exception": false,
     "start_time": "2023-11-03T12:48:07.888491",
     "status": "completed"
    },
    "tags": []
   },
   "source": [
    "***The mean amount for fradulent transaction was 531.32 whereas for normal transaction was relatively lower i.e 67.66***"
   ]
  },
  {
   "cell_type": "markdown",
   "id": "ceffbbde",
   "metadata": {
    "papermill": {
     "duration": 0.019736,
     "end_time": "2023-11-03T12:48:07.948579",
     "exception": false,
     "start_time": "2023-11-03T12:48:07.928843",
     "status": "completed"
    },
    "tags": []
   },
   "source": [
    "# Frequency of Transactions"
   ]
  },
  {
   "cell_type": "code",
   "execution_count": 12,
   "id": "89806a78",
   "metadata": {
    "execution": {
     "iopub.execute_input": "2023-11-03T12:48:07.989389Z",
     "iopub.status.busy": "2023-11-03T12:48:07.988967Z",
     "iopub.status.idle": "2023-11-03T12:48:07.995081Z",
     "shell.execute_reply": "2023-11-03T12:48:07.994330Z"
    },
    "papermill": {
     "duration": 0.028673,
     "end_time": "2023-11-03T12:48:07.997046",
     "exception": false,
     "start_time": "2023-11-03T12:48:07.968373",
     "status": "completed"
    },
    "tags": []
   },
   "outputs": [],
   "source": [
    "def last1dayTransCnt(df_train):\n",
    "    temp = pd.Series(df_train.index,index=df_train.trans_date_trans_time,name=\"In_a_Day\").sort_index()\n",
    "    #data (parameter) is df_train.index \n",
    "    #temp is a series whose index is time stamp and value is row indices of corresponding time stamp\n",
    "    In_a_Day = temp.rolling('1d').count()-1\n",
    "#in a day is a series with timestamp as index and frequency as its value\n",
    "    In_a_Day.index= temp.values\n",
    "#in a day 's index is just 0 1 2; row indices of df_train or x\n",
    "    df_train['In_a_Day'] = In_a_Day.reindex(df_train.index)\n",
    "#df_train\n",
    "    return df_train"
   ]
  },
  {
   "cell_type": "code",
   "execution_count": 13,
   "id": "0f1f3d52",
   "metadata": {
    "execution": {
     "iopub.execute_input": "2023-11-03T12:48:08.036973Z",
     "iopub.status.busy": "2023-11-03T12:48:08.036368Z",
     "iopub.status.idle": "2023-11-03T12:48:08.041431Z",
     "shell.execute_reply": "2023-11-03T12:48:08.040716Z"
    },
    "papermill": {
     "duration": 0.027382,
     "end_time": "2023-11-03T12:48:08.043412",
     "exception": false,
     "start_time": "2023-11-03T12:48:08.016030",
     "status": "completed"
    },
    "tags": []
   },
   "outputs": [],
   "source": [
    "def last1weekTransCnt(x):\n",
    "    temp = pd.Series(x.index,index=x.trans_date_trans_time,name=\"In_a_Week\").sort_index()\n",
    "    In_a_Week = temp.rolling('7d').count()-1\n",
    "    In_a_Week.index = temp.values\n",
    "    x['In_a_Week'] = In_a_Week.reindex(x.index)\n",
    "    return x"
   ]
  },
  {
   "cell_type": "code",
   "execution_count": 14,
   "id": "b0031f8b",
   "metadata": {
    "execution": {
     "iopub.execute_input": "2023-11-03T12:48:08.083971Z",
     "iopub.status.busy": "2023-11-03T12:48:08.083419Z",
     "iopub.status.idle": "2023-11-03T12:48:08.088742Z",
     "shell.execute_reply": "2023-11-03T12:48:08.087747Z"
    },
    "papermill": {
     "duration": 0.028398,
     "end_time": "2023-11-03T12:48:08.090953",
     "exception": false,
     "start_time": "2023-11-03T12:48:08.062555",
     "status": "completed"
    },
    "tags": []
   },
   "outputs": [],
   "source": [
    "def last1monthTransCnt(x):\n",
    "    temp = pd.Series(x.index,index=x.trans_date_trans_time,name=\"In_a_Month\").sort_index()\n",
    "    In_a_Month = temp.rolling('30d').count()-1\n",
    "    In_a_Month.index = temp.values\n",
    "    x['In_a_Month'] = In_a_Month.reindex(x.index)\n",
    "    return x"
   ]
  },
  {
   "cell_type": "code",
   "execution_count": 15,
   "id": "3bbdd961",
   "metadata": {
    "execution": {
     "iopub.execute_input": "2023-11-03T12:48:08.132394Z",
     "iopub.status.busy": "2023-11-03T12:48:08.132052Z",
     "iopub.status.idle": "2023-11-03T12:48:21.609407Z",
     "shell.execute_reply": "2023-11-03T12:48:21.608301Z"
    },
    "papermill": {
     "duration": 13.500911,
     "end_time": "2023-11-03T12:48:21.611746",
     "exception": false,
     "start_time": "2023-11-03T12:48:08.110835",
     "status": "completed"
    },
    "tags": []
   },
   "outputs": [
    {
     "data": {
      "text/html": [
       "<div>\n",
       "<style scoped>\n",
       "    .dataframe tbody tr th:only-of-type {\n",
       "        vertical-align: middle;\n",
       "    }\n",
       "\n",
       "    .dataframe tbody tr th {\n",
       "        vertical-align: top;\n",
       "    }\n",
       "\n",
       "    .dataframe thead th {\n",
       "        text-align: right;\n",
       "    }\n",
       "</style>\n",
       "<table border=\"1\" class=\"dataframe\">\n",
       "  <thead>\n",
       "    <tr style=\"text-align: right;\">\n",
       "      <th></th>\n",
       "      <th></th>\n",
       "      <th>trans_date_trans_time</th>\n",
       "      <th>cc_num</th>\n",
       "      <th>merchant</th>\n",
       "      <th>category</th>\n",
       "      <th>amt</th>\n",
       "      <th>gender</th>\n",
       "      <th>street</th>\n",
       "      <th>city</th>\n",
       "      <th>state</th>\n",
       "      <th>zip</th>\n",
       "      <th>...</th>\n",
       "      <th>unix_time</th>\n",
       "      <th>merch_lat</th>\n",
       "      <th>merch_long</th>\n",
       "      <th>is_fraud</th>\n",
       "      <th>Hour</th>\n",
       "      <th>Day_of_week</th>\n",
       "      <th>Month</th>\n",
       "      <th>In_a_Day</th>\n",
       "      <th>In_a_Week</th>\n",
       "      <th>In_a_Month</th>\n",
       "    </tr>\n",
       "    <tr>\n",
       "      <th>cc_num</th>\n",
       "      <th></th>\n",
       "      <th></th>\n",
       "      <th></th>\n",
       "      <th></th>\n",
       "      <th></th>\n",
       "      <th></th>\n",
       "      <th></th>\n",
       "      <th></th>\n",
       "      <th></th>\n",
       "      <th></th>\n",
       "      <th></th>\n",
       "      <th></th>\n",
       "      <th></th>\n",
       "      <th></th>\n",
       "      <th></th>\n",
       "      <th></th>\n",
       "      <th></th>\n",
       "      <th></th>\n",
       "      <th></th>\n",
       "      <th></th>\n",
       "      <th></th>\n",
       "      <th></th>\n",
       "    </tr>\n",
       "  </thead>\n",
       "  <tbody>\n",
       "    <tr>\n",
       "      <th rowspan=\"5\" valign=\"top\">60416207185</th>\n",
       "      <th>0</th>\n",
       "      <td>2019-01-01 12:47:15</td>\n",
       "      <td>60416207185</td>\n",
       "      <td>fraud_Jones, Sawayn and Romaguera</td>\n",
       "      <td>misc_net</td>\n",
       "      <td>7.27</td>\n",
       "      <td>F</td>\n",
       "      <td>9886 Anita Drive</td>\n",
       "      <td>Fort Washakie</td>\n",
       "      <td>WY</td>\n",
       "      <td>82514</td>\n",
       "      <td>...</td>\n",
       "      <td>1325422035</td>\n",
       "      <td>43.974711</td>\n",
       "      <td>-109.741904</td>\n",
       "      <td>0</td>\n",
       "      <td>12</td>\n",
       "      <td>1</td>\n",
       "      <td>1</td>\n",
       "      <td>0.0</td>\n",
       "      <td>0.0</td>\n",
       "      <td>0.0</td>\n",
       "    </tr>\n",
       "    <tr>\n",
       "      <th>1</th>\n",
       "      <td>2019-01-02 08:44:57</td>\n",
       "      <td>60416207185</td>\n",
       "      <td>fraud_Berge LLC</td>\n",
       "      <td>gas_transport</td>\n",
       "      <td>52.94</td>\n",
       "      <td>F</td>\n",
       "      <td>9886 Anita Drive</td>\n",
       "      <td>Fort Washakie</td>\n",
       "      <td>WY</td>\n",
       "      <td>82514</td>\n",
       "      <td>...</td>\n",
       "      <td>1325493897</td>\n",
       "      <td>42.018766</td>\n",
       "      <td>-109.044172</td>\n",
       "      <td>0</td>\n",
       "      <td>8</td>\n",
       "      <td>2</td>\n",
       "      <td>1</td>\n",
       "      <td>1.0</td>\n",
       "      <td>1.0</td>\n",
       "      <td>1.0</td>\n",
       "    </tr>\n",
       "    <tr>\n",
       "      <th>2</th>\n",
       "      <td>2019-01-02 08:47:36</td>\n",
       "      <td>60416207185</td>\n",
       "      <td>fraud_Luettgen PLC</td>\n",
       "      <td>gas_transport</td>\n",
       "      <td>82.08</td>\n",
       "      <td>F</td>\n",
       "      <td>9886 Anita Drive</td>\n",
       "      <td>Fort Washakie</td>\n",
       "      <td>WY</td>\n",
       "      <td>82514</td>\n",
       "      <td>...</td>\n",
       "      <td>1325494056</td>\n",
       "      <td>42.961335</td>\n",
       "      <td>-109.157564</td>\n",
       "      <td>0</td>\n",
       "      <td>8</td>\n",
       "      <td>2</td>\n",
       "      <td>1</td>\n",
       "      <td>2.0</td>\n",
       "      <td>2.0</td>\n",
       "      <td>2.0</td>\n",
       "    </tr>\n",
       "    <tr>\n",
       "      <th>3</th>\n",
       "      <td>2019-01-02 12:38:14</td>\n",
       "      <td>60416207185</td>\n",
       "      <td>fraud_Daugherty LLC</td>\n",
       "      <td>kids_pets</td>\n",
       "      <td>34.79</td>\n",
       "      <td>F</td>\n",
       "      <td>9886 Anita Drive</td>\n",
       "      <td>Fort Washakie</td>\n",
       "      <td>WY</td>\n",
       "      <td>82514</td>\n",
       "      <td>...</td>\n",
       "      <td>1325507894</td>\n",
       "      <td>42.228227</td>\n",
       "      <td>-108.747683</td>\n",
       "      <td>0</td>\n",
       "      <td>12</td>\n",
       "      <td>2</td>\n",
       "      <td>1</td>\n",
       "      <td>3.0</td>\n",
       "      <td>3.0</td>\n",
       "      <td>3.0</td>\n",
       "    </tr>\n",
       "    <tr>\n",
       "      <th>4</th>\n",
       "      <td>2019-01-02 13:10:46</td>\n",
       "      <td>60416207185</td>\n",
       "      <td>fraud_Beier and Sons</td>\n",
       "      <td>home</td>\n",
       "      <td>27.18</td>\n",
       "      <td>F</td>\n",
       "      <td>9886 Anita Drive</td>\n",
       "      <td>Fort Washakie</td>\n",
       "      <td>WY</td>\n",
       "      <td>82514</td>\n",
       "      <td>...</td>\n",
       "      <td>1325509846</td>\n",
       "      <td>43.321745</td>\n",
       "      <td>-108.091143</td>\n",
       "      <td>0</td>\n",
       "      <td>13</td>\n",
       "      <td>2</td>\n",
       "      <td>1</td>\n",
       "      <td>3.0</td>\n",
       "      <td>4.0</td>\n",
       "      <td>4.0</td>\n",
       "    </tr>\n",
       "    <tr>\n",
       "      <th>...</th>\n",
       "      <th>...</th>\n",
       "      <td>...</td>\n",
       "      <td>...</td>\n",
       "      <td>...</td>\n",
       "      <td>...</td>\n",
       "      <td>...</td>\n",
       "      <td>...</td>\n",
       "      <td>...</td>\n",
       "      <td>...</td>\n",
       "      <td>...</td>\n",
       "      <td>...</td>\n",
       "      <td>...</td>\n",
       "      <td>...</td>\n",
       "      <td>...</td>\n",
       "      <td>...</td>\n",
       "      <td>...</td>\n",
       "      <td>...</td>\n",
       "      <td>...</td>\n",
       "      <td>...</td>\n",
       "      <td>...</td>\n",
       "      <td>...</td>\n",
       "      <td>...</td>\n",
       "    </tr>\n",
       "    <tr>\n",
       "      <th rowspan=\"5\" valign=\"top\">4992346398065154184</th>\n",
       "      <th>1296670</th>\n",
       "      <td>2020-06-20 21:04:59</td>\n",
       "      <td>4992346398065154184</td>\n",
       "      <td>fraud_Berge, Kautzer and Harris</td>\n",
       "      <td>personal_care</td>\n",
       "      <td>60.47</td>\n",
       "      <td>M</td>\n",
       "      <td>920 Patrick Light</td>\n",
       "      <td>Mc Nabb</td>\n",
       "      <td>IL</td>\n",
       "      <td>61335</td>\n",
       "      <td>...</td>\n",
       "      <td>1371762299</td>\n",
       "      <td>40.475395</td>\n",
       "      <td>-89.076105</td>\n",
       "      <td>0</td>\n",
       "      <td>21</td>\n",
       "      <td>5</td>\n",
       "      <td>6</td>\n",
       "      <td>3.0</td>\n",
       "      <td>28.0</td>\n",
       "      <td>130.0</td>\n",
       "    </tr>\n",
       "    <tr>\n",
       "      <th>1296671</th>\n",
       "      <td>2020-06-21 00:41:01</td>\n",
       "      <td>4992346398065154184</td>\n",
       "      <td>fraud_Bernhard Inc</td>\n",
       "      <td>gas_transport</td>\n",
       "      <td>74.29</td>\n",
       "      <td>M</td>\n",
       "      <td>920 Patrick Light</td>\n",
       "      <td>Mc Nabb</td>\n",
       "      <td>IL</td>\n",
       "      <td>61335</td>\n",
       "      <td>...</td>\n",
       "      <td>1371775261</td>\n",
       "      <td>40.743634</td>\n",
       "      <td>-89.553379</td>\n",
       "      <td>0</td>\n",
       "      <td>0</td>\n",
       "      <td>6</td>\n",
       "      <td>6</td>\n",
       "      <td>3.0</td>\n",
       "      <td>29.0</td>\n",
       "      <td>131.0</td>\n",
       "    </tr>\n",
       "    <tr>\n",
       "      <th>1296672</th>\n",
       "      <td>2020-06-21 02:47:59</td>\n",
       "      <td>4992346398065154184</td>\n",
       "      <td>fraud_Reichert, Rowe and Mraz</td>\n",
       "      <td>shopping_net</td>\n",
       "      <td>246.56</td>\n",
       "      <td>M</td>\n",
       "      <td>920 Patrick Light</td>\n",
       "      <td>Mc Nabb</td>\n",
       "      <td>IL</td>\n",
       "      <td>61335</td>\n",
       "      <td>...</td>\n",
       "      <td>1371782879</td>\n",
       "      <td>40.215418</td>\n",
       "      <td>-88.682562</td>\n",
       "      <td>0</td>\n",
       "      <td>2</td>\n",
       "      <td>6</td>\n",
       "      <td>6</td>\n",
       "      <td>4.0</td>\n",
       "      <td>30.0</td>\n",
       "      <td>132.0</td>\n",
       "    </tr>\n",
       "    <tr>\n",
       "      <th>1296673</th>\n",
       "      <td>2020-06-21 08:04:28</td>\n",
       "      <td>4992346398065154184</td>\n",
       "      <td>fraud_Jewess LLC</td>\n",
       "      <td>shopping_pos</td>\n",
       "      <td>2.62</td>\n",
       "      <td>M</td>\n",
       "      <td>920 Patrick Light</td>\n",
       "      <td>Mc Nabb</td>\n",
       "      <td>IL</td>\n",
       "      <td>61335</td>\n",
       "      <td>...</td>\n",
       "      <td>1371801868</td>\n",
       "      <td>40.762861</td>\n",
       "      <td>-88.744967</td>\n",
       "      <td>0</td>\n",
       "      <td>8</td>\n",
       "      <td>6</td>\n",
       "      <td>6</td>\n",
       "      <td>5.0</td>\n",
       "      <td>29.0</td>\n",
       "      <td>132.0</td>\n",
       "    </tr>\n",
       "    <tr>\n",
       "      <th>1296674</th>\n",
       "      <td>2020-06-21 09:58:58</td>\n",
       "      <td>4992346398065154184</td>\n",
       "      <td>fraud_Reilly, Heaney and Cole</td>\n",
       "      <td>gas_transport</td>\n",
       "      <td>39.29</td>\n",
       "      <td>M</td>\n",
       "      <td>920 Patrick Light</td>\n",
       "      <td>Mc Nabb</td>\n",
       "      <td>IL</td>\n",
       "      <td>61335</td>\n",
       "      <td>...</td>\n",
       "      <td>1371808738</td>\n",
       "      <td>40.699593</td>\n",
       "      <td>-89.230938</td>\n",
       "      <td>0</td>\n",
       "      <td>9</td>\n",
       "      <td>6</td>\n",
       "      <td>6</td>\n",
       "      <td>5.0</td>\n",
       "      <td>30.0</td>\n",
       "      <td>133.0</td>\n",
       "    </tr>\n",
       "  </tbody>\n",
       "</table>\n",
       "<p>1296675 rows × 24 columns</p>\n",
       "</div>"
      ],
      "text/plain": [
       "                            trans_date_trans_time               cc_num  \\\n",
       "cc_num                                                                   \n",
       "60416207185         0         2019-01-01 12:47:15          60416207185   \n",
       "                    1         2019-01-02 08:44:57          60416207185   \n",
       "                    2         2019-01-02 08:47:36          60416207185   \n",
       "                    3         2019-01-02 12:38:14          60416207185   \n",
       "                    4         2019-01-02 13:10:46          60416207185   \n",
       "...                                           ...                  ...   \n",
       "4992346398065154184 1296670   2020-06-20 21:04:59  4992346398065154184   \n",
       "                    1296671   2020-06-21 00:41:01  4992346398065154184   \n",
       "                    1296672   2020-06-21 02:47:59  4992346398065154184   \n",
       "                    1296673   2020-06-21 08:04:28  4992346398065154184   \n",
       "                    1296674   2020-06-21 09:58:58  4992346398065154184   \n",
       "\n",
       "                                                      merchant       category  \\\n",
       "cc_num                                                                          \n",
       "60416207185         0        fraud_Jones, Sawayn and Romaguera       misc_net   \n",
       "                    1                          fraud_Berge LLC  gas_transport   \n",
       "                    2                       fraud_Luettgen PLC  gas_transport   \n",
       "                    3                      fraud_Daugherty LLC      kids_pets   \n",
       "                    4                     fraud_Beier and Sons           home   \n",
       "...                                                        ...            ...   \n",
       "4992346398065154184 1296670    fraud_Berge, Kautzer and Harris  personal_care   \n",
       "                    1296671                 fraud_Bernhard Inc  gas_transport   \n",
       "                    1296672      fraud_Reichert, Rowe and Mraz   shopping_net   \n",
       "                    1296673                   fraud_Jewess LLC   shopping_pos   \n",
       "                    1296674      fraud_Reilly, Heaney and Cole  gas_transport   \n",
       "\n",
       "                                amt gender             street           city  \\\n",
       "cc_num                                                                         \n",
       "60416207185         0          7.27      F   9886 Anita Drive  Fort Washakie   \n",
       "                    1         52.94      F   9886 Anita Drive  Fort Washakie   \n",
       "                    2         82.08      F   9886 Anita Drive  Fort Washakie   \n",
       "                    3         34.79      F   9886 Anita Drive  Fort Washakie   \n",
       "                    4         27.18      F   9886 Anita Drive  Fort Washakie   \n",
       "...                             ...    ...                ...            ...   \n",
       "4992346398065154184 1296670   60.47      M  920 Patrick Light        Mc Nabb   \n",
       "                    1296671   74.29      M  920 Patrick Light        Mc Nabb   \n",
       "                    1296672  246.56      M  920 Patrick Light        Mc Nabb   \n",
       "                    1296673    2.62      M  920 Patrick Light        Mc Nabb   \n",
       "                    1296674   39.29      M  920 Patrick Light        Mc Nabb   \n",
       "\n",
       "                            state    zip  ...   unix_time  merch_lat  \\\n",
       "cc_num                                    ...                          \n",
       "60416207185         0          WY  82514  ...  1325422035  43.974711   \n",
       "                    1          WY  82514  ...  1325493897  42.018766   \n",
       "                    2          WY  82514  ...  1325494056  42.961335   \n",
       "                    3          WY  82514  ...  1325507894  42.228227   \n",
       "                    4          WY  82514  ...  1325509846  43.321745   \n",
       "...                           ...    ...  ...         ...        ...   \n",
       "4992346398065154184 1296670    IL  61335  ...  1371762299  40.475395   \n",
       "                    1296671    IL  61335  ...  1371775261  40.743634   \n",
       "                    1296672    IL  61335  ...  1371782879  40.215418   \n",
       "                    1296673    IL  61335  ...  1371801868  40.762861   \n",
       "                    1296674    IL  61335  ...  1371808738  40.699593   \n",
       "\n",
       "                             merch_long is_fraud  Hour  Day_of_week  Month  \\\n",
       "cc_num                                                                       \n",
       "60416207185         0       -109.741904        0    12            1      1   \n",
       "                    1       -109.044172        0     8            2      1   \n",
       "                    2       -109.157564        0     8            2      1   \n",
       "                    3       -108.747683        0    12            2      1   \n",
       "                    4       -108.091143        0    13            2      1   \n",
       "...                                 ...      ...   ...          ...    ...   \n",
       "4992346398065154184 1296670  -89.076105        0    21            5      6   \n",
       "                    1296671  -89.553379        0     0            6      6   \n",
       "                    1296672  -88.682562        0     2            6      6   \n",
       "                    1296673  -88.744967        0     8            6      6   \n",
       "                    1296674  -89.230938        0     9            6      6   \n",
       "\n",
       "                             In_a_Day  In_a_Week  In_a_Month  \n",
       "cc_num                                                        \n",
       "60416207185         0             0.0        0.0         0.0  \n",
       "                    1             1.0        1.0         1.0  \n",
       "                    2             2.0        2.0         2.0  \n",
       "                    3             3.0        3.0         3.0  \n",
       "                    4             3.0        4.0         4.0  \n",
       "...                               ...        ...         ...  \n",
       "4992346398065154184 1296670       3.0       28.0       130.0  \n",
       "                    1296671       3.0       29.0       131.0  \n",
       "                    1296672       4.0       30.0       132.0  \n",
       "                    1296673       5.0       29.0       132.0  \n",
       "                    1296674       5.0       30.0       133.0  \n",
       "\n",
       "[1296675 rows x 24 columns]"
      ]
     },
     "execution_count": 15,
     "metadata": {},
     "output_type": "execute_result"
    }
   ],
   "source": [
    "df1d = df_train.groupby('cc_num').apply(last1dayTransCnt)\n",
    "#drop = true ; we don't want to add new column\n",
    "df1w = df1d.reset_index(drop=True).groupby('cc_num').apply(last1weekTransCnt)\n",
    "df1dm = df1w.reset_index(drop=True).groupby('cc_num').apply(last1monthTransCnt)\n",
    "df1dm"
   ]
  },
  {
   "cell_type": "markdown",
   "id": "dce1b018",
   "metadata": {
    "papermill": {
     "duration": 0.024517,
     "end_time": "2023-11-03T12:48:21.661130",
     "exception": false,
     "start_time": "2023-11-03T12:48:21.636613",
     "status": "completed"
    },
    "tags": []
   },
   "source": [
    "# As per the frequency of transactions lets guess the fradulent transactions"
   ]
  },
  {
   "cell_type": "markdown",
   "id": "707ff617",
   "metadata": {
    "papermill": {
     "duration": 0.019069,
     "end_time": "2023-11-03T12:48:21.706709",
     "exception": false,
     "start_time": "2023-11-03T12:48:21.687640",
     "status": "completed"
    },
    "tags": []
   },
   "source": [
    "Threshold for a certain transaction to be fraud estimated if no. of day, week or month is more that 90% of the data."
   ]
  },
  {
   "cell_type": "code",
   "execution_count": 16,
   "id": "829d916c",
   "metadata": {
    "execution": {
     "iopub.execute_input": "2023-11-03T12:48:21.749149Z",
     "iopub.status.busy": "2023-11-03T12:48:21.748177Z",
     "iopub.status.idle": "2023-11-03T12:48:21.835934Z",
     "shell.execute_reply": "2023-11-03T12:48:21.834975Z"
    },
    "papermill": {
     "duration": 0.111741,
     "end_time": "2023-11-03T12:48:21.838592",
     "exception": false,
     "start_time": "2023-11-03T12:48:21.726851",
     "status": "completed"
    },
    "tags": []
   },
   "outputs": [
    {
     "data": {
      "text/html": [
       "<div>\n",
       "<style scoped>\n",
       "    .dataframe tbody tr th:only-of-type {\n",
       "        vertical-align: middle;\n",
       "    }\n",
       "\n",
       "    .dataframe tbody tr th {\n",
       "        vertical-align: top;\n",
       "    }\n",
       "\n",
       "    .dataframe thead th {\n",
       "        text-align: right;\n",
       "    }\n",
       "</style>\n",
       "<table border=\"1\" class=\"dataframe\">\n",
       "  <thead>\n",
       "    <tr style=\"text-align: right;\">\n",
       "      <th></th>\n",
       "      <th></th>\n",
       "      <th>trans_date_trans_time</th>\n",
       "      <th>cc_num</th>\n",
       "      <th>merchant</th>\n",
       "      <th>category</th>\n",
       "      <th>amt</th>\n",
       "      <th>gender</th>\n",
       "      <th>street</th>\n",
       "      <th>city</th>\n",
       "      <th>state</th>\n",
       "      <th>zip</th>\n",
       "      <th>...</th>\n",
       "      <th>merch_lat</th>\n",
       "      <th>merch_long</th>\n",
       "      <th>is_fraud</th>\n",
       "      <th>Hour</th>\n",
       "      <th>Day_of_week</th>\n",
       "      <th>Month</th>\n",
       "      <th>In_a_Day</th>\n",
       "      <th>In_a_Week</th>\n",
       "      <th>In_a_Month</th>\n",
       "      <th>prolly_fraud</th>\n",
       "    </tr>\n",
       "    <tr>\n",
       "      <th>cc_num</th>\n",
       "      <th></th>\n",
       "      <th></th>\n",
       "      <th></th>\n",
       "      <th></th>\n",
       "      <th></th>\n",
       "      <th></th>\n",
       "      <th></th>\n",
       "      <th></th>\n",
       "      <th></th>\n",
       "      <th></th>\n",
       "      <th></th>\n",
       "      <th></th>\n",
       "      <th></th>\n",
       "      <th></th>\n",
       "      <th></th>\n",
       "      <th></th>\n",
       "      <th></th>\n",
       "      <th></th>\n",
       "      <th></th>\n",
       "      <th></th>\n",
       "      <th></th>\n",
       "      <th></th>\n",
       "    </tr>\n",
       "  </thead>\n",
       "  <tbody>\n",
       "    <tr>\n",
       "      <th rowspan=\"5\" valign=\"top\">501851115094</th>\n",
       "      <th>9228</th>\n",
       "      <td>2019-03-24 23:42:05</td>\n",
       "      <td>501851115094</td>\n",
       "      <td>fraud_Schmitt Ltd</td>\n",
       "      <td>misc_net</td>\n",
       "      <td>757.36</td>\n",
       "      <td>F</td>\n",
       "      <td>755 Moses Harbor</td>\n",
       "      <td>Coulee Dam</td>\n",
       "      <td>WA</td>\n",
       "      <td>99116</td>\n",
       "      <td>...</td>\n",
       "      <td>48.579050</td>\n",
       "      <td>-118.658233</td>\n",
       "      <td>1</td>\n",
       "      <td>23</td>\n",
       "      <td>6</td>\n",
       "      <td>3</td>\n",
       "      <td>9.0</td>\n",
       "      <td>9.0</td>\n",
       "      <td>9.0</td>\n",
       "      <td>True</td>\n",
       "    </tr>\n",
       "    <tr>\n",
       "      <th>9229</th>\n",
       "      <td>2019-03-24 23:45:03</td>\n",
       "      <td>501851115094</td>\n",
       "      <td>fraud_Keeling-Crist</td>\n",
       "      <td>misc_pos</td>\n",
       "      <td>6.33</td>\n",
       "      <td>F</td>\n",
       "      <td>755 Moses Harbor</td>\n",
       "      <td>Coulee Dam</td>\n",
       "      <td>WA</td>\n",
       "      <td>99116</td>\n",
       "      <td>...</td>\n",
       "      <td>48.157637</td>\n",
       "      <td>-119.394795</td>\n",
       "      <td>1</td>\n",
       "      <td>23</td>\n",
       "      <td>6</td>\n",
       "      <td>3</td>\n",
       "      <td>10.0</td>\n",
       "      <td>10.0</td>\n",
       "      <td>10.0</td>\n",
       "      <td>True</td>\n",
       "    </tr>\n",
       "    <tr>\n",
       "      <th>9230</th>\n",
       "      <td>2019-03-25 01:44:04</td>\n",
       "      <td>501851115094</td>\n",
       "      <td>fraud_Rowe, Batz and Goodwin</td>\n",
       "      <td>grocery_pos</td>\n",
       "      <td>301.90</td>\n",
       "      <td>F</td>\n",
       "      <td>755 Moses Harbor</td>\n",
       "      <td>Coulee Dam</td>\n",
       "      <td>WA</td>\n",
       "      <td>99116</td>\n",
       "      <td>...</td>\n",
       "      <td>48.775604</td>\n",
       "      <td>-118.631265</td>\n",
       "      <td>1</td>\n",
       "      <td>1</td>\n",
       "      <td>0</td>\n",
       "      <td>3</td>\n",
       "      <td>10.0</td>\n",
       "      <td>11.0</td>\n",
       "      <td>11.0</td>\n",
       "      <td>True</td>\n",
       "    </tr>\n",
       "    <tr>\n",
       "      <th>9231</th>\n",
       "      <td>2019-03-25 01:48:08</td>\n",
       "      <td>501851115094</td>\n",
       "      <td>fraud_Strosin-Cruickshank</td>\n",
       "      <td>grocery_pos</td>\n",
       "      <td>282.54</td>\n",
       "      <td>F</td>\n",
       "      <td>755 Moses Harbor</td>\n",
       "      <td>Coulee Dam</td>\n",
       "      <td>WA</td>\n",
       "      <td>99116</td>\n",
       "      <td>...</td>\n",
       "      <td>48.552067</td>\n",
       "      <td>-118.828143</td>\n",
       "      <td>1</td>\n",
       "      <td>1</td>\n",
       "      <td>0</td>\n",
       "      <td>3</td>\n",
       "      <td>10.0</td>\n",
       "      <td>12.0</td>\n",
       "      <td>12.0</td>\n",
       "      <td>True</td>\n",
       "    </tr>\n",
       "    <tr>\n",
       "      <th>9232</th>\n",
       "      <td>2019-03-25 03:58:56</td>\n",
       "      <td>501851115094</td>\n",
       "      <td>fraud_Harris Inc</td>\n",
       "      <td>gas_transport</td>\n",
       "      <td>7.97</td>\n",
       "      <td>F</td>\n",
       "      <td>755 Moses Harbor</td>\n",
       "      <td>Coulee Dam</td>\n",
       "      <td>WA</td>\n",
       "      <td>99116</td>\n",
       "      <td>...</td>\n",
       "      <td>48.206311</td>\n",
       "      <td>-118.320833</td>\n",
       "      <td>1</td>\n",
       "      <td>3</td>\n",
       "      <td>0</td>\n",
       "      <td>3</td>\n",
       "      <td>9.0</td>\n",
       "      <td>13.0</td>\n",
       "      <td>13.0</td>\n",
       "      <td>True</td>\n",
       "    </tr>\n",
       "    <tr>\n",
       "      <th>...</th>\n",
       "      <th>...</th>\n",
       "      <td>...</td>\n",
       "      <td>...</td>\n",
       "      <td>...</td>\n",
       "      <td>...</td>\n",
       "      <td>...</td>\n",
       "      <td>...</td>\n",
       "      <td>...</td>\n",
       "      <td>...</td>\n",
       "      <td>...</td>\n",
       "      <td>...</td>\n",
       "      <td>...</td>\n",
       "      <td>...</td>\n",
       "      <td>...</td>\n",
       "      <td>...</td>\n",
       "      <td>...</td>\n",
       "      <td>...</td>\n",
       "      <td>...</td>\n",
       "      <td>...</td>\n",
       "      <td>...</td>\n",
       "      <td>...</td>\n",
       "      <td>...</td>\n",
       "    </tr>\n",
       "    <tr>\n",
       "      <th>4792627764422477317</th>\n",
       "      <th>1270201</th>\n",
       "      <td>2019-12-24 22:06:59</td>\n",
       "      <td>4792627764422477317</td>\n",
       "      <td>fraud_Dare, Casper and Bartoletti</td>\n",
       "      <td>kids_pets</td>\n",
       "      <td>21.52</td>\n",
       "      <td>F</td>\n",
       "      <td>7952 Karen Pike</td>\n",
       "      <td>De Soto</td>\n",
       "      <td>KS</td>\n",
       "      <td>66018</td>\n",
       "      <td>...</td>\n",
       "      <td>38.831214</td>\n",
       "      <td>-94.895134</td>\n",
       "      <td>1</td>\n",
       "      <td>22</td>\n",
       "      <td>1</td>\n",
       "      <td>12</td>\n",
       "      <td>3.0</td>\n",
       "      <td>57.0</td>\n",
       "      <td>276.0</td>\n",
       "      <td>True</td>\n",
       "    </tr>\n",
       "    <tr>\n",
       "      <th rowspan=\"2\" valign=\"top\">4810789809665942990</th>\n",
       "      <th>1275557</th>\n",
       "      <td>2020-04-16 03:13:29</td>\n",
       "      <td>4810789809665942990</td>\n",
       "      <td>fraud_Osinski, Ledner and Leuschke</td>\n",
       "      <td>grocery_pos</td>\n",
       "      <td>339.56</td>\n",
       "      <td>F</td>\n",
       "      <td>916 Charles Road</td>\n",
       "      <td>Bowersville</td>\n",
       "      <td>OH</td>\n",
       "      <td>45307</td>\n",
       "      <td>...</td>\n",
       "      <td>39.841290</td>\n",
       "      <td>-83.378116</td>\n",
       "      <td>1</td>\n",
       "      <td>3</td>\n",
       "      <td>3</td>\n",
       "      <td>4</td>\n",
       "      <td>9.0</td>\n",
       "      <td>27.0</td>\n",
       "      <td>100.0</td>\n",
       "      <td>True</td>\n",
       "    </tr>\n",
       "    <tr>\n",
       "      <th>1275558</th>\n",
       "      <td>2020-04-16 22:14:36</td>\n",
       "      <td>4810789809665942990</td>\n",
       "      <td>fraud_Hills-Boyer</td>\n",
       "      <td>personal_care</td>\n",
       "      <td>20.43</td>\n",
       "      <td>F</td>\n",
       "      <td>916 Charles Road</td>\n",
       "      <td>Bowersville</td>\n",
       "      <td>OH</td>\n",
       "      <td>45307</td>\n",
       "      <td>...</td>\n",
       "      <td>39.377549</td>\n",
       "      <td>-83.186822</td>\n",
       "      <td>1</td>\n",
       "      <td>22</td>\n",
       "      <td>3</td>\n",
       "      <td>4</td>\n",
       "      <td>10.0</td>\n",
       "      <td>25.0</td>\n",
       "      <td>95.0</td>\n",
       "      <td>True</td>\n",
       "    </tr>\n",
       "    <tr>\n",
       "      <th rowspan=\"2\" valign=\"top\">4855488158131690372</th>\n",
       "      <th>1279435</th>\n",
       "      <td>2020-03-12 23:48:29</td>\n",
       "      <td>4855488158131690372</td>\n",
       "      <td>fraud_Goyette Inc</td>\n",
       "      <td>shopping_net</td>\n",
       "      <td>1193.52</td>\n",
       "      <td>M</td>\n",
       "      <td>25887 Martin Inlet</td>\n",
       "      <td>Graniteville</td>\n",
       "      <td>VT</td>\n",
       "      <td>5654</td>\n",
       "      <td>...</td>\n",
       "      <td>43.593069</td>\n",
       "      <td>-73.095572</td>\n",
       "      <td>1</td>\n",
       "      <td>23</td>\n",
       "      <td>3</td>\n",
       "      <td>3</td>\n",
       "      <td>9.0</td>\n",
       "      <td>31.0</td>\n",
       "      <td>91.0</td>\n",
       "      <td>True</td>\n",
       "    </tr>\n",
       "    <tr>\n",
       "      <th>1279436</th>\n",
       "      <td>2020-03-13 13:30:47</td>\n",
       "      <td>4855488158131690372</td>\n",
       "      <td>fraud_Schumm PLC</td>\n",
       "      <td>shopping_net</td>\n",
       "      <td>1065.73</td>\n",
       "      <td>M</td>\n",
       "      <td>25887 Martin Inlet</td>\n",
       "      <td>Graniteville</td>\n",
       "      <td>VT</td>\n",
       "      <td>5654</td>\n",
       "      <td>...</td>\n",
       "      <td>44.139681</td>\n",
       "      <td>-72.733955</td>\n",
       "      <td>1</td>\n",
       "      <td>13</td>\n",
       "      <td>4</td>\n",
       "      <td>3</td>\n",
       "      <td>9.0</td>\n",
       "      <td>30.0</td>\n",
       "      <td>92.0</td>\n",
       "      <td>True</td>\n",
       "    </tr>\n",
       "  </tbody>\n",
       "</table>\n",
       "<p>654 rows × 25 columns</p>\n",
       "</div>"
      ],
      "text/plain": [
       "                            trans_date_trans_time               cc_num  \\\n",
       "cc_num                                                                   \n",
       "501851115094        9228      2019-03-24 23:42:05         501851115094   \n",
       "                    9229      2019-03-24 23:45:03         501851115094   \n",
       "                    9230      2019-03-25 01:44:04         501851115094   \n",
       "                    9231      2019-03-25 01:48:08         501851115094   \n",
       "                    9232      2019-03-25 03:58:56         501851115094   \n",
       "...                                           ...                  ...   \n",
       "4792627764422477317 1270201   2019-12-24 22:06:59  4792627764422477317   \n",
       "4810789809665942990 1275557   2020-04-16 03:13:29  4810789809665942990   \n",
       "                    1275558   2020-04-16 22:14:36  4810789809665942990   \n",
       "4855488158131690372 1279435   2020-03-12 23:48:29  4855488158131690372   \n",
       "                    1279436   2020-03-13 13:30:47  4855488158131690372   \n",
       "\n",
       "                                                       merchant  \\\n",
       "cc_num                                                            \n",
       "501851115094        9228                      fraud_Schmitt Ltd   \n",
       "                    9229                    fraud_Keeling-Crist   \n",
       "                    9230           fraud_Rowe, Batz and Goodwin   \n",
       "                    9231              fraud_Strosin-Cruickshank   \n",
       "                    9232                       fraud_Harris Inc   \n",
       "...                                                         ...   \n",
       "4792627764422477317 1270201   fraud_Dare, Casper and Bartoletti   \n",
       "4810789809665942990 1275557  fraud_Osinski, Ledner and Leuschke   \n",
       "                    1275558                   fraud_Hills-Boyer   \n",
       "4855488158131690372 1279435                   fraud_Goyette Inc   \n",
       "                    1279436                    fraud_Schumm PLC   \n",
       "\n",
       "                                  category      amt gender  \\\n",
       "cc_num                                                       \n",
       "501851115094        9228          misc_net   757.36      F   \n",
       "                    9229          misc_pos     6.33      F   \n",
       "                    9230       grocery_pos   301.90      F   \n",
       "                    9231       grocery_pos   282.54      F   \n",
       "                    9232     gas_transport     7.97      F   \n",
       "...                                    ...      ...    ...   \n",
       "4792627764422477317 1270201      kids_pets    21.52      F   \n",
       "4810789809665942990 1275557    grocery_pos   339.56      F   \n",
       "                    1275558  personal_care    20.43      F   \n",
       "4855488158131690372 1279435   shopping_net  1193.52      M   \n",
       "                    1279436   shopping_net  1065.73      M   \n",
       "\n",
       "                                         street          city state    zip  \\\n",
       "cc_num                                                                       \n",
       "501851115094        9228       755 Moses Harbor    Coulee Dam    WA  99116   \n",
       "                    9229       755 Moses Harbor    Coulee Dam    WA  99116   \n",
       "                    9230       755 Moses Harbor    Coulee Dam    WA  99116   \n",
       "                    9231       755 Moses Harbor    Coulee Dam    WA  99116   \n",
       "                    9232       755 Moses Harbor    Coulee Dam    WA  99116   \n",
       "...                                         ...           ...   ...    ...   \n",
       "4792627764422477317 1270201     7952 Karen Pike       De Soto    KS  66018   \n",
       "4810789809665942990 1275557    916 Charles Road   Bowersville    OH  45307   \n",
       "                    1275558    916 Charles Road   Bowersville    OH  45307   \n",
       "4855488158131690372 1279435  25887 Martin Inlet  Graniteville    VT   5654   \n",
       "                    1279436  25887 Martin Inlet  Graniteville    VT   5654   \n",
       "\n",
       "                             ...  merch_lat  merch_long  is_fraud Hour  \\\n",
       "cc_num                       ...                                         \n",
       "501851115094        9228     ...  48.579050 -118.658233         1   23   \n",
       "                    9229     ...  48.157637 -119.394795         1   23   \n",
       "                    9230     ...  48.775604 -118.631265         1    1   \n",
       "                    9231     ...  48.552067 -118.828143         1    1   \n",
       "                    9232     ...  48.206311 -118.320833         1    3   \n",
       "...                          ...        ...         ...       ...  ...   \n",
       "4792627764422477317 1270201  ...  38.831214  -94.895134         1   22   \n",
       "4810789809665942990 1275557  ...  39.841290  -83.378116         1    3   \n",
       "                    1275558  ...  39.377549  -83.186822         1   22   \n",
       "4855488158131690372 1279435  ...  43.593069  -73.095572         1   23   \n",
       "                    1279436  ...  44.139681  -72.733955         1   13   \n",
       "\n",
       "                             Day_of_week  Month  In_a_Day  In_a_Week  \\\n",
       "cc_num                                                                 \n",
       "501851115094        9228               6      3       9.0        9.0   \n",
       "                    9229               6      3      10.0       10.0   \n",
       "                    9230               0      3      10.0       11.0   \n",
       "                    9231               0      3      10.0       12.0   \n",
       "                    9232               0      3       9.0       13.0   \n",
       "...                                  ...    ...       ...        ...   \n",
       "4792627764422477317 1270201            1     12       3.0       57.0   \n",
       "4810789809665942990 1275557            3      4       9.0       27.0   \n",
       "                    1275558            3      4      10.0       25.0   \n",
       "4855488158131690372 1279435            3      3       9.0       31.0   \n",
       "                    1279436            4      3       9.0       30.0   \n",
       "\n",
       "                             In_a_Month  prolly_fraud  \n",
       "cc_num                                                 \n",
       "501851115094        9228            9.0          True  \n",
       "                    9229           10.0          True  \n",
       "                    9230           11.0          True  \n",
       "                    9231           12.0          True  \n",
       "                    9232           13.0          True  \n",
       "...                                 ...           ...  \n",
       "4792627764422477317 1270201       276.0          True  \n",
       "4810789809665942990 1275557       100.0          True  \n",
       "                    1275558        95.0          True  \n",
       "4855488158131690372 1279435        91.0          True  \n",
       "                    1279436        92.0          True  \n",
       "\n",
       "[654 rows x 25 columns]"
      ]
     },
     "execution_count": 16,
     "metadata": {},
     "output_type": "execute_result"
    }
   ],
   "source": [
    "threshold_day = df1dm['In_a_Day'].quantile(0.9)\n",
    "threshold_week = df1dm['In_a_Week'].quantile(0.9)\n",
    "threshold_month = df1dm['In_a_Month'].quantile(0.9)\n",
    "df1dm['prolly_fraud'] = ((df1dm['In_a_Day']>threshold_day)|\n",
    "                        (df1dm['In_a_Week']>threshold_week)|\n",
    "                        (df1dm['In_a_Month']>threshold_month))\n",
    "df1dm[(df1dm['prolly_fraud'] == True) & (df1dm['is_fraud'] == True)]\n"
   ]
  },
  {
   "cell_type": "markdown",
   "id": "45e71bdd",
   "metadata": {
    "papermill": {
     "duration": 0.021154,
     "end_time": "2023-11-03T12:48:21.881002",
     "exception": false,
     "start_time": "2023-11-03T12:48:21.859848",
     "status": "completed"
    },
    "tags": []
   },
   "source": [
    "**Merged this dataframe's columns to original one**"
   ]
  },
  {
   "cell_type": "code",
   "execution_count": 17,
   "id": "600c7c4a",
   "metadata": {
    "execution": {
     "iopub.execute_input": "2023-11-03T12:48:21.925528Z",
     "iopub.status.busy": "2023-11-03T12:48:21.924543Z",
     "iopub.status.idle": "2023-11-03T12:48:22.825855Z",
     "shell.execute_reply": "2023-11-03T12:48:22.824800Z"
    },
    "papermill": {
     "duration": 0.926325,
     "end_time": "2023-11-03T12:48:22.828644",
     "exception": false,
     "start_time": "2023-11-03T12:48:21.902319",
     "status": "completed"
    },
    "tags": []
   },
   "outputs": [],
   "source": [
    "\"\"\"df1dm has cc_num as index but we're trying to merge on basis of cc_num column as well\n",
    "so we make cc_num a regular column before merging it\"\"\"\n",
    "df1dm.reset_index(drop =True,inplace=True)\n",
    "df_train = df_train.merge(df1dm[['trans_date_trans_time','prolly_fraud']], on = ['trans_date_trans_time'],how = 'left')\n",
    "# df.drop(['prolly_fraud_x','prolly_fraud_y'], axis=1, inplace=True)\n",
    "# df_train.head(3)"
   ]
  },
  {
   "cell_type": "code",
   "execution_count": 18,
   "id": "080dc50c",
   "metadata": {
    "execution": {
     "iopub.execute_input": "2023-11-03T12:48:22.872781Z",
     "iopub.status.busy": "2023-11-03T12:48:22.872058Z",
     "iopub.status.idle": "2023-11-03T12:48:22.894674Z",
     "shell.execute_reply": "2023-11-03T12:48:22.893693Z"
    },
    "papermill": {
     "duration": 0.046762,
     "end_time": "2023-11-03T12:48:22.896992",
     "exception": false,
     "start_time": "2023-11-03T12:48:22.850230",
     "status": "completed"
    },
    "tags": []
   },
   "outputs": [
    {
     "data": {
      "text/html": [
       "<div>\n",
       "<style scoped>\n",
       "    .dataframe tbody tr th:only-of-type {\n",
       "        vertical-align: middle;\n",
       "    }\n",
       "\n",
       "    .dataframe tbody tr th {\n",
       "        vertical-align: top;\n",
       "    }\n",
       "\n",
       "    .dataframe thead th {\n",
       "        text-align: right;\n",
       "    }\n",
       "</style>\n",
       "<table border=\"1\" class=\"dataframe\">\n",
       "  <thead>\n",
       "    <tr style=\"text-align: right;\">\n",
       "      <th></th>\n",
       "      <th>trans_date_trans_time</th>\n",
       "      <th>cc_num</th>\n",
       "      <th>merchant</th>\n",
       "      <th>category</th>\n",
       "      <th>amt</th>\n",
       "      <th>gender</th>\n",
       "      <th>street</th>\n",
       "      <th>city</th>\n",
       "      <th>state</th>\n",
       "      <th>zip</th>\n",
       "      <th>...</th>\n",
       "      <th>city_pop</th>\n",
       "      <th>dob</th>\n",
       "      <th>unix_time</th>\n",
       "      <th>merch_lat</th>\n",
       "      <th>merch_long</th>\n",
       "      <th>is_fraud</th>\n",
       "      <th>Hour</th>\n",
       "      <th>Day_of_week</th>\n",
       "      <th>Month</th>\n",
       "      <th>prolly_fraud</th>\n",
       "    </tr>\n",
       "  </thead>\n",
       "  <tbody>\n",
       "    <tr>\n",
       "      <th>0</th>\n",
       "      <td>2019-01-01 00:00:18</td>\n",
       "      <td>2703186189652095</td>\n",
       "      <td>fraud_Rippin, Kub and Mann</td>\n",
       "      <td>misc_net</td>\n",
       "      <td>4.97</td>\n",
       "      <td>F</td>\n",
       "      <td>561 Perry Cove</td>\n",
       "      <td>Moravian Falls</td>\n",
       "      <td>NC</td>\n",
       "      <td>28654</td>\n",
       "      <td>...</td>\n",
       "      <td>3495</td>\n",
       "      <td>1988-03-09</td>\n",
       "      <td>1325376018</td>\n",
       "      <td>36.011293</td>\n",
       "      <td>-82.048315</td>\n",
       "      <td>0</td>\n",
       "      <td>0</td>\n",
       "      <td>1</td>\n",
       "      <td>1</td>\n",
       "      <td>False</td>\n",
       "    </tr>\n",
       "    <tr>\n",
       "      <th>1</th>\n",
       "      <td>2019-01-01 00:00:44</td>\n",
       "      <td>630423337322</td>\n",
       "      <td>fraud_Heller, Gutmann and Zieme</td>\n",
       "      <td>grocery_pos</td>\n",
       "      <td>107.23</td>\n",
       "      <td>F</td>\n",
       "      <td>43039 Riley Greens Suite 393</td>\n",
       "      <td>Orient</td>\n",
       "      <td>WA</td>\n",
       "      <td>99160</td>\n",
       "      <td>...</td>\n",
       "      <td>149</td>\n",
       "      <td>1978-06-21</td>\n",
       "      <td>1325376044</td>\n",
       "      <td>49.159047</td>\n",
       "      <td>-118.186462</td>\n",
       "      <td>0</td>\n",
       "      <td>0</td>\n",
       "      <td>1</td>\n",
       "      <td>1</td>\n",
       "      <td>False</td>\n",
       "    </tr>\n",
       "    <tr>\n",
       "      <th>2</th>\n",
       "      <td>2019-01-01 00:00:51</td>\n",
       "      <td>38859492057661</td>\n",
       "      <td>fraud_Lind-Buckridge</td>\n",
       "      <td>entertainment</td>\n",
       "      <td>220.11</td>\n",
       "      <td>M</td>\n",
       "      <td>594 White Dale Suite 530</td>\n",
       "      <td>Malad City</td>\n",
       "      <td>ID</td>\n",
       "      <td>83252</td>\n",
       "      <td>...</td>\n",
       "      <td>4154</td>\n",
       "      <td>1962-01-19</td>\n",
       "      <td>1325376051</td>\n",
       "      <td>43.150704</td>\n",
       "      <td>-112.154481</td>\n",
       "      <td>0</td>\n",
       "      <td>0</td>\n",
       "      <td>1</td>\n",
       "      <td>1</td>\n",
       "      <td>False</td>\n",
       "    </tr>\n",
       "  </tbody>\n",
       "</table>\n",
       "<p>3 rows × 22 columns</p>\n",
       "</div>"
      ],
      "text/plain": [
       "  trans_date_trans_time            cc_num                         merchant  \\\n",
       "0   2019-01-01 00:00:18  2703186189652095       fraud_Rippin, Kub and Mann   \n",
       "1   2019-01-01 00:00:44      630423337322  fraud_Heller, Gutmann and Zieme   \n",
       "2   2019-01-01 00:00:51    38859492057661             fraud_Lind-Buckridge   \n",
       "\n",
       "        category     amt gender                        street            city  \\\n",
       "0       misc_net    4.97      F                561 Perry Cove  Moravian Falls   \n",
       "1    grocery_pos  107.23      F  43039 Riley Greens Suite 393          Orient   \n",
       "2  entertainment  220.11      M      594 White Dale Suite 530      Malad City   \n",
       "\n",
       "  state    zip  ...  city_pop        dob   unix_time  merch_lat  merch_long  \\\n",
       "0    NC  28654  ...      3495 1988-03-09  1325376018  36.011293  -82.048315   \n",
       "1    WA  99160  ...       149 1978-06-21  1325376044  49.159047 -118.186462   \n",
       "2    ID  83252  ...      4154 1962-01-19  1325376051  43.150704 -112.154481   \n",
       "\n",
       "   is_fraud  Hour  Day_of_week  Month  prolly_fraud  \n",
       "0         0     0            1      1         False  \n",
       "1         0     0            1      1         False  \n",
       "2         0     0            1      1         False  \n",
       "\n",
       "[3 rows x 22 columns]"
      ]
     },
     "execution_count": 18,
     "metadata": {},
     "output_type": "execute_result"
    }
   ],
   "source": [
    "df_train.head(3)"
   ]
  },
  {
   "cell_type": "markdown",
   "id": "e7166369",
   "metadata": {
    "papermill": {
     "duration": 0.021136,
     "end_time": "2023-11-03T12:48:22.939856",
     "exception": false,
     "start_time": "2023-11-03T12:48:22.918720",
     "status": "completed"
    },
    "tags": []
   },
   "source": [
    "# Correlation Heatmaps"
   ]
  },
  {
   "cell_type": "markdown",
   "id": "43b9891b",
   "metadata": {
    "papermill": {
     "duration": 0.021032,
     "end_time": "2023-11-03T12:48:22.982539",
     "exception": false,
     "start_time": "2023-11-03T12:48:22.961507",
     "status": "completed"
    },
    "tags": []
   },
   "source": [
    "**Correlation heatmap of original data**\n"
   ]
  },
  {
   "cell_type": "code",
   "execution_count": 19,
   "id": "29e802f4",
   "metadata": {
    "execution": {
     "iopub.execute_input": "2023-11-03T12:48:23.027347Z",
     "iopub.status.busy": "2023-11-03T12:48:23.026946Z",
     "iopub.status.idle": "2023-11-03T12:48:24.200804Z",
     "shell.execute_reply": "2023-11-03T12:48:24.199717Z"
    },
    "papermill": {
     "duration": 1.199676,
     "end_time": "2023-11-03T12:48:24.203817",
     "exception": false,
     "start_time": "2023-11-03T12:48:23.004141",
     "status": "completed"
    },
    "tags": []
   },
   "outputs": [
    {
     "data": {
      "text/plain": [
       "<Axes: >"
      ]
     },
     "execution_count": 19,
     "metadata": {},
     "output_type": "execute_result"
    },
    {
     "data": {
      "image/png": "[encoded data removed]",
      "text/plain": [
       "<Figure size 640x480 with 2 Axes>"
      ]
     },
     "metadata": {},
     "output_type": "display_data"
    }
   ],
   "source": [
    "num_cols = df_train.select_dtypes(include = ['float64','int64'])\n",
    "sns.heatmap(num_cols.corr(),annot = True)"
   ]
  },
  {
   "cell_type": "markdown",
   "id": "f36f5319",
   "metadata": {
    "papermill": {
     "duration": 0.023508,
     "end_time": "2023-11-03T12:48:24.250901",
     "exception": false,
     "start_time": "2023-11-03T12:48:24.227393",
     "status": "completed"
    },
    "tags": []
   },
   "source": [
    "**Correlation heatmap of data with added features**"
   ]
  },
  {
   "cell_type": "code",
   "execution_count": 20,
   "id": "aa74155c",
   "metadata": {
    "execution": {
     "iopub.execute_input": "2023-11-03T12:48:24.298692Z",
     "iopub.status.busy": "2023-11-03T12:48:24.298326Z",
     "iopub.status.idle": "2023-11-03T12:48:26.044305Z",
     "shell.execute_reply": "2023-11-03T12:48:26.043227Z"
    },
    "papermill": {
     "duration": 1.773628,
     "end_time": "2023-11-03T12:48:26.047789",
     "exception": false,
     "start_time": "2023-11-03T12:48:24.274161",
     "status": "completed"
    },
    "tags": []
   },
   "outputs": [
    {
     "data": {
      "text/plain": [
       "<Axes: >"
      ]
     },
     "execution_count": 20,
     "metadata": {},
     "output_type": "execute_result"
    },
    {
     "data": {
      "image/png": "[encoded data removed]",
      "text/plain": [
       "<Figure size 640x480 with 2 Axes>"
      ]
     },
     "metadata": {},
     "output_type": "display_data"
    }
   ],
   "source": [
    "numeric_columns = df1dm.select_dtypes(include=['float64', 'int64'])\n",
    "corr_matrix = numeric_columns.corr()\n",
    "sns.heatmap(corr_matrix, annot=True,fmt='.3f',cmap=\"YlGnBu\")\n"
   ]
  },
  {
   "cell_type": "markdown",
   "id": "a2b3525a",
   "metadata": {
    "papermill": {
     "duration": 0.026273,
     "end_time": "2023-11-03T12:48:26.100095",
     "exception": false,
     "start_time": "2023-11-03T12:48:26.073822",
     "status": "completed"
    },
    "tags": []
   },
   "source": [
    "# Frauds and Categories"
   ]
  },
  {
   "cell_type": "code",
   "execution_count": 21,
   "id": "48d1433d",
   "metadata": {
    "execution": {
     "iopub.execute_input": "2023-11-03T12:48:26.152661Z",
     "iopub.status.busy": "2023-11-03T12:48:26.152288Z",
     "iopub.status.idle": "2023-11-03T12:48:26.344271Z",
     "shell.execute_reply": "2023-11-03T12:48:26.343136Z"
    },
    "papermill": {
     "duration": 0.220975,
     "end_time": "2023-11-03T12:48:26.346539",
     "exception": false,
     "start_time": "2023-11-03T12:48:26.125564",
     "status": "completed"
    },
    "tags": []
   },
   "outputs": [
    {
     "data": {
      "text/html": [
       "<div>\n",
       "<style scoped>\n",
       "    .dataframe tbody tr th:only-of-type {\n",
       "        vertical-align: middle;\n",
       "    }\n",
       "\n",
       "    .dataframe tbody tr th {\n",
       "        vertical-align: top;\n",
       "    }\n",
       "\n",
       "    .dataframe thead th {\n",
       "        text-align: right;\n",
       "    }\n",
       "</style>\n",
       "<table border=\"1\" class=\"dataframe\">\n",
       "  <thead>\n",
       "    <tr style=\"text-align: right;\">\n",
       "      <th>is_fraud</th>\n",
       "      <th>0</th>\n",
       "      <th>1</th>\n",
       "    </tr>\n",
       "    <tr>\n",
       "      <th>category</th>\n",
       "      <th></th>\n",
       "      <th></th>\n",
       "    </tr>\n",
       "  </thead>\n",
       "  <tbody>\n",
       "    <tr>\n",
       "      <th>entertainment</th>\n",
       "      <td>97310</td>\n",
       "      <td>242</td>\n",
       "    </tr>\n",
       "    <tr>\n",
       "      <th>food_dining</th>\n",
       "      <td>94792</td>\n",
       "      <td>154</td>\n",
       "    </tr>\n",
       "    <tr>\n",
       "      <th>gas_transport</th>\n",
       "      <td>134262</td>\n",
       "      <td>630</td>\n",
       "    </tr>\n",
       "    <tr>\n",
       "      <th>grocery_net</th>\n",
       "      <td>46418</td>\n",
       "      <td>134</td>\n",
       "    </tr>\n",
       "    <tr>\n",
       "      <th>grocery_pos</th>\n",
       "      <td>125051</td>\n",
       "      <td>1789</td>\n",
       "    </tr>\n",
       "    <tr>\n",
       "      <th>health_fitness</th>\n",
       "      <td>89176</td>\n",
       "      <td>137</td>\n",
       "    </tr>\n",
       "    <tr>\n",
       "      <th>home</th>\n",
       "      <td>127836</td>\n",
       "      <td>212</td>\n",
       "    </tr>\n",
       "    <tr>\n",
       "      <th>kids_pets</th>\n",
       "      <td>117355</td>\n",
       "      <td>243</td>\n",
       "    </tr>\n",
       "    <tr>\n",
       "      <th>misc_net</th>\n",
       "      <td>64052</td>\n",
       "      <td>946</td>\n",
       "    </tr>\n",
       "    <tr>\n",
       "      <th>misc_pos</th>\n",
       "      <td>81977</td>\n",
       "      <td>263</td>\n",
       "    </tr>\n",
       "    <tr>\n",
       "      <th>personal_care</th>\n",
       "      <td>94155</td>\n",
       "      <td>227</td>\n",
       "    </tr>\n",
       "    <tr>\n",
       "      <th>shopping_net</th>\n",
       "      <td>99066</td>\n",
       "      <td>1787</td>\n",
       "    </tr>\n",
       "    <tr>\n",
       "      <th>shopping_pos</th>\n",
       "      <td>119851</td>\n",
       "      <td>872</td>\n",
       "    </tr>\n",
       "    <tr>\n",
       "      <th>travel</th>\n",
       "      <td>42016</td>\n",
       "      <td>118</td>\n",
       "    </tr>\n",
       "  </tbody>\n",
       "</table>\n",
       "</div>"
      ],
      "text/plain": [
       "is_fraud             0     1\n",
       "category                    \n",
       "entertainment    97310   242\n",
       "food_dining      94792   154\n",
       "gas_transport   134262   630\n",
       "grocery_net      46418   134\n",
       "grocery_pos     125051  1789\n",
       "health_fitness   89176   137\n",
       "home            127836   212\n",
       "kids_pets       117355   243\n",
       "misc_net         64052   946\n",
       "misc_pos         81977   263\n",
       "personal_care    94155   227\n",
       "shopping_net     99066  1787\n",
       "shopping_pos    119851   872\n",
       "travel           42016   118"
      ]
     },
     "execution_count": 21,
     "metadata": {},
     "output_type": "execute_result"
    }
   ],
   "source": [
    "\"\"\"\"\n",
    "split-apply-combine\n",
    "first it groups category and is_fraud then it selects is_fraud and counts it \n",
    "results in \n",
    "    is_fraud\n",
    "cat1   0      2\n",
    "       1      1\n",
    "cat2   0      1\n",
    "       1      1\n",
    "unstacked so the 'is_fraud' gets converted into a single column\n",
    "is_fraud    0    1\n",
    "category\n",
    "cat1        2    1\n",
    "cat2        1    1\n",
    "\"\"\"\n",
    "cat_counts = df_train.groupby(['category','is_fraud'])['is_fraud'].count().unstack()\n",
    "cat_counts"
   ]
  },
  {
   "cell_type": "code",
   "execution_count": 22,
   "id": "bf955d4a",
   "metadata": {
    "execution": {
     "iopub.execute_input": "2023-11-03T12:48:26.400279Z",
     "iopub.status.busy": "2023-11-03T12:48:26.399441Z",
     "iopub.status.idle": "2023-11-03T12:48:26.767002Z",
     "shell.execute_reply": "2023-11-03T12:48:26.765867Z"
    },
    "papermill": {
     "duration": 0.397497,
     "end_time": "2023-11-03T12:48:26.769738",
     "exception": false,
     "start_time": "2023-11-03T12:48:26.372241",
     "status": "completed"
    },
    "tags": []
   },
   "outputs": [
    {
     "data": {
      "image/png": "[encoded data removed]",
      "text/plain": [
       "<Figure size 1200x600 with 1 Axes>"
      ]
     },
     "metadata": {},
     "output_type": "display_data"
    }
   ],
   "source": [
    "cat_counts_fraud = cat_counts[1]\n",
    "ccc = cat_counts_fraud.plot(kind='bar', figsize=(12, 6))\n",
    "ccc.set_ylabel('No. od Frauds')\n",
    "ccc.set_xlabel('Category')\n",
    "ccc.set_title('Category Vs Frauds')\n",
    "plt.xticks(rotation=45)\n",
    "plt.show()"
   ]
  },
  {
   "cell_type": "markdown",
   "id": "175722d0",
   "metadata": {
    "papermill": {
     "duration": 0.025982,
     "end_time": "2023-11-03T12:48:26.821819",
     "exception": false,
     "start_time": "2023-11-03T12:48:26.795837",
     "status": "completed"
    },
    "tags": []
   },
   "source": [
    "**Grocery and Shopping are the categories with the most frauds.**"
   ]
  },
  {
   "cell_type": "markdown",
   "id": "af41e537",
   "metadata": {
    "papermill": {
     "duration": 0.025192,
     "end_time": "2023-11-03T12:48:26.871359",
     "exception": false,
     "start_time": "2023-11-03T12:48:26.846167",
     "status": "completed"
    },
    "tags": []
   },
   "source": [
    "# Gender Wise Fraud"
   ]
  },
  {
   "cell_type": "code",
   "execution_count": 23,
   "id": "f53276e7",
   "metadata": {
    "execution": {
     "iopub.execute_input": "2023-11-03T12:48:26.923553Z",
     "iopub.status.busy": "2023-11-03T12:48:26.922931Z",
     "iopub.status.idle": "2023-11-03T12:48:27.395271Z",
     "shell.execute_reply": "2023-11-03T12:48:27.394150Z"
    },
    "papermill": {
     "duration": 0.501165,
     "end_time": "2023-11-03T12:48:27.397476",
     "exception": false,
     "start_time": "2023-11-03T12:48:26.896311",
     "status": "completed"
    },
    "tags": []
   },
   "outputs": [
    {
     "data": {
      "text/plain": [
       "Text(0.5, 1.0, 'Bar Plot of is_fraud by Gender')"
      ]
     },
     "execution_count": 23,
     "metadata": {},
     "output_type": "execute_result"
    },
    {
     "data": {
      "image/png": "[encoded data removed]",
      "text/plain": [
       "<Figure size 640x480 with 1 Axes>"
      ]
     },
     "metadata": {},
     "output_type": "display_data"
    }
   ],
   "source": [
    "gen_counts = df_train.groupby(['gender','is_fraud'])['is_fraud'].count().unstack()\n",
    "ax = gen_counts.plot(kind='bar', stacked=True)\n",
    "ax.set_xlabel('Gender')\n",
    "ax.set_ylabel('Count')\n",
    "ax.set_title('Bar Plot of is_fraud by Gender')"
   ]
  },
  {
   "cell_type": "markdown",
   "id": "f4cf5b4d",
   "metadata": {
    "papermill": {
     "duration": 0.026224,
     "end_time": "2023-11-03T12:48:27.450580",
     "exception": false,
     "start_time": "2023-11-03T12:48:27.424356",
     "status": "completed"
    },
    "tags": []
   },
   "source": [
    "**JUST A BIT DIFFERENT APPROACH**"
   ]
  },
  {
   "cell_type": "code",
   "execution_count": 24,
   "id": "682c93fe",
   "metadata": {
    "execution": {
     "iopub.execute_input": "2023-11-03T12:48:27.507017Z",
     "iopub.status.busy": "2023-11-03T12:48:27.506360Z",
     "iopub.status.idle": "2023-11-03T12:48:27.527260Z",
     "shell.execute_reply": "2023-11-03T12:48:27.526271Z"
    },
    "papermill": {
     "duration": 0.051584,
     "end_time": "2023-11-03T12:48:27.529361",
     "exception": false,
     "start_time": "2023-11-03T12:48:27.477777",
     "status": "completed"
    },
    "tags": []
   },
   "outputs": [
    {
     "data": {
      "text/plain": [
       "gender\n",
       "F    3843\n",
       "M    3911\n",
       "Name: is_fraud, dtype: int64"
      ]
     },
     "execution_count": 24,
     "metadata": {},
     "output_type": "execute_result"
    }
   ],
   "source": [
    "gen_counts = df_train[df_train['is_fraud'] == 1].groupby('gender')['is_fraud'].count()\n",
    "gen_counts"
   ]
  },
  {
   "cell_type": "code",
   "execution_count": 25,
   "id": "564a94cb",
   "metadata": {
    "execution": {
     "iopub.execute_input": "2023-11-03T12:48:27.584744Z",
     "iopub.status.busy": "2023-11-03T12:48:27.583947Z",
     "iopub.status.idle": "2023-11-03T12:48:27.876253Z",
     "shell.execute_reply": "2023-11-03T12:48:27.875146Z"
    },
    "papermill": {
     "duration": 0.322462,
     "end_time": "2023-11-03T12:48:27.878630",
     "exception": false,
     "start_time": "2023-11-03T12:48:27.556168",
     "status": "completed"
    },
    "tags": []
   },
   "outputs": [
    {
     "data": {
      "text/plain": [
       "Text(0.5, 1.0, 'Gender Vs Fraud')"
      ]
     },
     "execution_count": 25,
     "metadata": {},
     "output_type": "execute_result"
    },
    {
     "data": {
      "image/png": "[encoded data removed]",
      "text/plain": [
       "<Figure size 640x480 with 1 Axes>"
      ]
     },
     "metadata": {},
     "output_type": "display_data"
    }
   ],
   "source": [
    "ax = gen_counts.plot(kind='bar')\n",
    "ax.set_xlabel('Gender')\n",
    "ax.set_ylabel('Fraud Count')\n",
    "ax.set_title('Gender Vs Fraud')\n"
   ]
  },
  {
   "cell_type": "markdown",
   "id": "12b4bad5",
   "metadata": {
    "papermill": {
     "duration": 0.027347,
     "end_time": "2023-11-03T12:48:27.933277",
     "exception": false,
     "start_time": "2023-11-03T12:48:27.905930",
     "status": "completed"
    },
    "tags": []
   },
   "source": [
    "**This provides no significant information since both genders have experienced almost equal number of frauds**"
   ]
  },
  {
   "cell_type": "markdown",
   "id": "575694a9",
   "metadata": {
    "papermill": {
     "duration": 0.027359,
     "end_time": "2023-11-03T12:48:27.988591",
     "exception": false,
     "start_time": "2023-11-03T12:48:27.961232",
     "status": "completed"
    },
    "tags": []
   },
   "source": [
    "# Most common day of the week for fraud"
   ]
  },
  {
   "cell_type": "code",
   "execution_count": 26,
   "id": "411e4020",
   "metadata": {
    "execution": {
     "iopub.execute_input": "2023-11-03T12:48:28.047003Z",
     "iopub.status.busy": "2023-11-03T12:48:28.045763Z",
     "iopub.status.idle": "2023-11-03T12:48:28.330657Z",
     "shell.execute_reply": "2023-11-03T12:48:28.329588Z"
    },
    "papermill": {
     "duration": 0.316254,
     "end_time": "2023-11-03T12:48:28.332835",
     "exception": false,
     "start_time": "2023-11-03T12:48:28.016581",
     "status": "completed"
    },
    "tags": []
   },
   "outputs": [
    {
     "data": {
      "image/png": "[encoded data removed]",
      "text/plain": [
       "<Figure size 640x480 with 1 Axes>"
      ]
     },
     "metadata": {},
     "output_type": "display_data"
    }
   ],
   "source": [
    "fraud_by_day = df_train[df_train['is_fraud']==1].groupby('Day_of_week')['is_fraud'].count()\n",
    "day_labels = ['Monday', 'Tuesday', 'Wednesday', 'Thursday', 'Friday', 'Saturday', 'Sunday']\n",
    "fraud_by_day.index=(day_labels)\n",
    "fraud_by_day.plot(kind='bar')\n",
    "plt.ylabel('Number of Fraud Cases')\n",
    "plt.title('Fraud Cases by Day of the Week')\n",
    "plt.xticks(rotation = 45)\n",
    "plt.show()"
   ]
  },
  {
   "cell_type": "markdown",
   "id": "5de81402",
   "metadata": {
    "papermill": {
     "duration": 0.026007,
     "end_time": "2023-11-03T12:48:28.385903",
     "exception": false,
     "start_time": "2023-11-03T12:48:28.359896",
     "status": "completed"
    },
    "tags": []
   },
   "source": [
    "**Most fraud transactions occur during the weekend. Saturday and Sunday**"
   ]
  },
  {
   "cell_type": "markdown",
   "id": "9186d2a2",
   "metadata": {
    "papermill": {
     "duration": 0.025417,
     "end_time": "2023-11-03T12:48:28.437438",
     "exception": false,
     "start_time": "2023-11-03T12:48:28.412021",
     "status": "completed"
    },
    "tags": []
   },
   "source": [
    "# Zip codes based fraud frequency"
   ]
  },
  {
   "cell_type": "code",
   "execution_count": 27,
   "id": "0f8d554e",
   "metadata": {
    "execution": {
     "iopub.execute_input": "2023-11-03T12:48:28.491859Z",
     "iopub.status.busy": "2023-11-03T12:48:28.490917Z",
     "iopub.status.idle": "2023-11-03T12:48:28.510414Z",
     "shell.execute_reply": "2023-11-03T12:48:28.509414Z"
    },
    "papermill": {
     "duration": 0.049399,
     "end_time": "2023-11-03T12:48:28.512607",
     "exception": false,
     "start_time": "2023-11-03T12:48:28.463208",
     "status": "completed"
    },
    "tags": []
   },
   "outputs": [
    {
     "data": {
      "text/plain": [
       "zip\n",
       "15010    25\n",
       "48088    24\n",
       "82514    21\n",
       "16034    21\n",
       "68375    20\n",
       "55606    20\n",
       "41812    19\n",
       "95148    19\n",
       "34112    19\n",
       "37138    18\n",
       "Name: is_fraud, dtype: int64"
      ]
     },
     "execution_count": 27,
     "metadata": {},
     "output_type": "execute_result"
    }
   ],
   "source": [
    "df_zip = df_train[df_train['is_fraud'] == 1].groupby('zip')['is_fraud'].count()\n",
    "top_10_zip= df_zip.sort_values(ascending=False).head(10)\n",
    "top_10_zip"
   ]
  },
  {
   "cell_type": "markdown",
   "id": "c76c77f9",
   "metadata": {
    "papermill": {
     "duration": 0.026957,
     "end_time": "2023-11-03T12:48:28.567687",
     "exception": false,
     "start_time": "2023-11-03T12:48:28.540730",
     "status": "completed"
    },
    "tags": []
   },
   "source": [
    "# City Vs Fraud"
   ]
  },
  {
   "cell_type": "code",
   "execution_count": 28,
   "id": "7b7136d9",
   "metadata": {
    "execution": {
     "iopub.execute_input": "2023-11-03T12:48:28.624767Z",
     "iopub.status.busy": "2023-11-03T12:48:28.623696Z",
     "iopub.status.idle": "2023-11-03T12:48:28.644507Z",
     "shell.execute_reply": "2023-11-03T12:48:28.643561Z"
    },
    "papermill": {
     "duration": 0.051591,
     "end_time": "2023-11-03T12:48:28.646566",
     "exception": false,
     "start_time": "2023-11-03T12:48:28.594975",
     "status": "completed"
    },
    "tags": []
   },
   "outputs": [
    {
     "data": {
      "text/plain": [
       "city\n",
       "Houston       40\n",
       "Warren        34\n",
       "Naples        30\n",
       "Huntsville    30\n",
       "Detroit       27\n",
       "Tulsa         27\n",
       "Utica         27\n",
       "Dallas        27\n",
       "Topeka        27\n",
       "Randolph      26\n",
       "Name: is_fraud, dtype: int64"
      ]
     },
     "execution_count": 28,
     "metadata": {},
     "output_type": "execute_result"
    }
   ],
   "source": [
    "df_city = df_train[df_train['is_fraud'] == 1].groupby('city')['is_fraud'].count()\n",
    "top_10_city= df_city.sort_values(ascending=False).head(10)\n",
    "top_10_city"
   ]
  },
  {
   "cell_type": "markdown",
   "id": "c0f7df3f",
   "metadata": {
    "papermill": {
     "duration": 0.028047,
     "end_time": "2023-11-03T12:48:28.702378",
     "exception": false,
     "start_time": "2023-11-03T12:48:28.674331",
     "status": "completed"
    },
    "tags": []
   },
   "source": [
    "**Houston has the highest number of frauds occurence.**"
   ]
  },
  {
   "cell_type": "markdown",
   "id": "ee2dd249",
   "metadata": {
    "papermill": {
     "duration": 0.028168,
     "end_time": "2023-11-03T12:48:28.759413",
     "exception": false,
     "start_time": "2023-11-03T12:48:28.731245",
     "status": "completed"
    },
    "tags": []
   },
   "source": [
    "**Merchants Vs Fraud**"
   ]
  },
  {
   "cell_type": "code",
   "execution_count": 29,
   "id": "f5e90a96",
   "metadata": {
    "execution": {
     "iopub.execute_input": "2023-11-03T12:48:28.819157Z",
     "iopub.status.busy": "2023-11-03T12:48:28.818365Z",
     "iopub.status.idle": "2023-11-03T12:48:28.840534Z",
     "shell.execute_reply": "2023-11-03T12:48:28.839422Z"
    },
    "papermill": {
     "duration": 0.054614,
     "end_time": "2023-11-03T12:48:28.842876",
     "exception": false,
     "start_time": "2023-11-03T12:48:28.788262",
     "status": "completed"
    },
    "tags": []
   },
   "outputs": [
    {
     "data": {
      "text/plain": [
       "merchant\n",
       "fraud_Cormier LLC           54\n",
       "fraud_Rau and Sons          51\n",
       "fraud_Kozey-Boehm           51\n",
       "fraud_Vandervort-Funk       48\n",
       "fraud_Doyle Ltd             48\n",
       "fraud_Kilback LLC           47\n",
       "fraud_Kuhn LLC              46\n",
       "fraud_Terry-Huel            45\n",
       "fraud_Padberg-Welch         45\n",
       "fraud_Gleason-Macejkovic    43\n",
       "Name: is_fraud, dtype: int64"
      ]
     },
     "execution_count": 29,
     "metadata": {},
     "output_type": "execute_result"
    }
   ],
   "source": [
    "df_mer = df_train[df_train['is_fraud'] == 1].groupby('merchant')['is_fraud'].count()\n",
    "top_10_mer= df_mer.sort_values(ascending=False).head(10)\n",
    "top_10_mer"
   ]
  },
  {
   "cell_type": "markdown",
   "id": "51c4ad83",
   "metadata": {
    "papermill": {
     "duration": 0.029162,
     "end_time": "2023-11-03T12:48:28.901321",
     "exception": false,
     "start_time": "2023-11-03T12:48:28.872159",
     "status": "completed"
    },
    "tags": []
   },
   "source": [
    "# Dropping few more columns, encoding categorical columns and scaling the columns with numeric values"
   ]
  },
  {
   "cell_type": "code",
   "execution_count": 30,
   "id": "93295d07",
   "metadata": {
    "execution": {
     "iopub.execute_input": "2023-11-03T12:48:28.961597Z",
     "iopub.status.busy": "2023-11-03T12:48:28.960944Z",
     "iopub.status.idle": "2023-11-03T12:48:55.210318Z",
     "shell.execute_reply": "2023-11-03T12:48:55.209066Z"
    },
    "papermill": {
     "duration": 26.283056,
     "end_time": "2023-11-03T12:48:55.213342",
     "exception": false,
     "start_time": "2023-11-03T12:48:28.930286",
     "status": "completed"
    },
    "tags": []
   },
   "outputs": [],
   "source": [
    "X = df_train.drop(['zip','lat','long','unix_time','merch_lat','merch_long', 'dob', 'trans_date_trans_time'],axis=1)\n",
    "X= pd.get_dummies(X,columns=['merchant', 'category', 'gender', 'street', 'city', 'state'])"
   ]
  },
  {
   "cell_type": "code",
   "execution_count": 31,
   "id": "14b444a1",
   "metadata": {
    "execution": {
     "iopub.execute_input": "2023-11-03T12:48:55.275323Z",
     "iopub.status.busy": "2023-11-03T12:48:55.274909Z",
     "iopub.status.idle": "2023-11-03T12:48:55.402275Z",
     "shell.execute_reply": "2023-11-03T12:48:55.400932Z"
    },
    "papermill": {
     "duration": 0.161577,
     "end_time": "2023-11-03T12:48:55.405012",
     "exception": false,
     "start_time": "2023-11-03T12:48:55.243435",
     "status": "completed"
    },
    "tags": []
   },
   "outputs": [],
   "source": [
    "from sklearn.preprocessing import MinMaxScaler\n",
    "num_colss= ['amt', 'city_pop', 'Hour', 'Day_of_week', 'Month']\n",
    "scaler = MinMaxScaler()\n",
    "X[num_colss] = scaler.fit_transform(X[num_colss])"
   ]
  },
  {
   "cell_type": "code",
   "execution_count": 32,
   "id": "18694c01",
   "metadata": {
    "execution": {
     "iopub.execute_input": "2023-11-03T12:48:55.464022Z",
     "iopub.status.busy": "2023-11-03T12:48:55.463612Z",
     "iopub.status.idle": "2023-11-03T12:48:56.584384Z",
     "shell.execute_reply": "2023-11-03T12:48:56.583205Z"
    },
    "papermill": {
     "duration": 1.15266,
     "end_time": "2023-11-03T12:48:56.587046",
     "exception": false,
     "start_time": "2023-11-03T12:48:55.434386",
     "status": "completed"
    },
    "tags": []
   },
   "outputs": [],
   "source": [
    "y = X[\"is_fraud\"]\n",
    "X = X.drop(\"is_fraud\",axis=1) "
   ]
  },
  {
   "cell_type": "markdown",
   "id": "85b95278",
   "metadata": {
    "papermill": {
     "duration": 0.02884,
     "end_time": "2023-11-03T12:48:56.646166",
     "exception": false,
     "start_time": "2023-11-03T12:48:56.617326",
     "status": "completed"
    },
    "tags": []
   },
   "source": [
    "# Splitting into test and train data"
   ]
  },
  {
   "cell_type": "code",
   "execution_count": 33,
   "id": "34646faa",
   "metadata": {
    "execution": {
     "iopub.execute_input": "2023-11-03T12:48:56.705716Z",
     "iopub.status.busy": "2023-11-03T12:48:56.705314Z",
     "iopub.status.idle": "2023-11-03T12:49:08.680707Z",
     "shell.execute_reply": "2023-11-03T12:49:08.679490Z"
    },
    "papermill": {
     "duration": 12.008798,
     "end_time": "2023-11-03T12:49:08.683405",
     "exception": false,
     "start_time": "2023-11-03T12:48:56.674607",
     "status": "completed"
    },
    "tags": []
   },
   "outputs": [],
   "source": [
    "from sklearn.model_selection import train_test_split\n",
    "X_train, X_test, y_train, y_test = train_test_split(X,y,test_size = 0.4,random_state=40)"
   ]
  },
  {
   "cell_type": "markdown",
   "id": "e33f5775",
   "metadata": {
    "papermill": {
     "duration": 0.028661,
     "end_time": "2023-11-03T12:49:08.740892",
     "exception": false,
     "start_time": "2023-11-03T12:49:08.712231",
     "status": "completed"
    },
    "tags": []
   },
   "source": [
    "# Using Decision Tree Classifier"
   ]
  },
  {
   "cell_type": "code",
   "execution_count": 34,
   "id": "f6ae699b",
   "metadata": {
    "execution": {
     "iopub.execute_input": "2023-11-03T12:49:08.800606Z",
     "iopub.status.busy": "2023-11-03T12:49:08.800216Z",
     "iopub.status.idle": "2023-11-03T12:49:08.953299Z",
     "shell.execute_reply": "2023-11-03T12:49:08.952381Z"
    },
    "papermill": {
     "duration": 0.185955,
     "end_time": "2023-11-03T12:49:08.955916",
     "exception": false,
     "start_time": "2023-11-03T12:49:08.769961",
     "status": "completed"
    },
    "tags": []
   },
   "outputs": [],
   "source": [
    "from sklearn.tree import DecisionTreeClassifier\n",
    "dtc = DecisionTreeClassifier()"
   ]
  },
  {
   "cell_type": "code",
   "execution_count": 35,
   "id": "a97bac82",
   "metadata": {
    "execution": {
     "iopub.execute_input": "2023-11-03T12:49:09.017223Z",
     "iopub.status.busy": "2023-11-03T12:49:09.016391Z",
     "iopub.status.idle": "2023-11-03T13:01:25.941036Z",
     "shell.execute_reply": "2023-11-03T13:01:25.939954Z"
    },
    "papermill": {
     "duration": 736.988141,
     "end_time": "2023-11-03T13:01:25.973947",
     "exception": false,
     "start_time": "2023-11-03T12:49:08.985806",
     "status": "completed"
    },
    "tags": []
   },
   "outputs": [
    {
     "data": {
      "text/html": [
       "<style>#sk-container-id-1 {color: black;background-color: white;}#sk-container-id-1 pre{padding: 0;}#sk-container-id-1 div.sk-toggleable {background-color: white;}#sk-container-id-1 label.sk-toggleable__label {cursor: pointer;display: block;width: 100%;margin-bottom: 0;padding: 0.3em;box-sizing: border-box;text-align: center;}#sk-container-id-1 label.sk-toggleable__label-arrow:before {content: \"▸\";float: left;margin-right: 0.25em;color: #696969;}#sk-container-id-1 label.sk-toggleable__label-arrow:hover:before {color: black;}#sk-container-id-1 div.sk-estimator:hover label.sk-toggleable__label-arrow:before {color: black;}#sk-container-id-1 div.sk-toggleable__content {max-height: 0;max-width: 0;overflow: hidden;text-align: left;background-color: #f0f8ff;}#sk-container-id-1 div.sk-toggleable__content pre {margin: 0.2em;color: black;border-radius: 0.25em;background-color: #f0f8ff;}#sk-container-id-1 input.sk-toggleable__control:checked~div.sk-toggleable__content {max-height: 200px;max-width: 100%;overflow: auto;}#sk-container-id-1 input.sk-toggleable__control:checked~label.sk-toggleable__label-arrow:before {content: \"▾\";}#sk-container-id-1 div.sk-estimator input.sk-toggleable__control:checked~label.sk-toggleable__label {background-color: #d4ebff;}#sk-container-id-1 div.sk-label input.sk-toggleable__control:checked~label.sk-toggleable__label {background-color: #d4ebff;}#sk-container-id-1 input.sk-hidden--visually {border: 0;clip: rect(1px 1px 1px 1px);clip: rect(1px, 1px, 1px, 1px);height: 1px;margin: -1px;overflow: hidden;padding: 0;position: absolute;width: 1px;}#sk-container-id-1 div.sk-estimator {font-family: monospace;background-color: #f0f8ff;border: 1px dotted black;border-radius: 0.25em;box-sizing: border-box;margin-bottom: 0.5em;}#sk-container-id-1 div.sk-estimator:hover {background-color: #d4ebff;}#sk-container-id-1 div.sk-parallel-item::after {content: \"\";width: 100%;border-bottom: 1px solid gray;flex-grow: 1;}#sk-container-id-1 div.sk-label:hover label.sk-toggleable__label {background-color: #d4ebff;}#sk-container-id-1 div.sk-serial::before {content: \"\";position: absolute;border-left: 1px solid gray;box-sizing: border-box;top: 0;bottom: 0;left: 50%;z-index: 0;}#sk-container-id-1 div.sk-serial {display: flex;flex-direction: column;align-items: center;background-color: white;padding-right: 0.2em;padding-left: 0.2em;position: relative;}#sk-container-id-1 div.sk-item {position: relative;z-index: 1;}#sk-container-id-1 div.sk-parallel {display: flex;align-items: stretch;justify-content: center;background-color: white;position: relative;}#sk-container-id-1 div.sk-item::before, #sk-container-id-1 div.sk-parallel-item::before {content: \"\";position: absolute;border-left: 1px solid gray;box-sizing: border-box;top: 0;bottom: 0;left: 50%;z-index: -1;}#sk-container-id-1 div.sk-parallel-item {display: flex;flex-direction: column;z-index: 1;position: relative;background-color: white;}#sk-container-id-1 div.sk-parallel-item:first-child::after {align-self: flex-end;width: 50%;}#sk-container-id-1 div.sk-parallel-item:last-child::after {align-self: flex-start;width: 50%;}#sk-container-id-1 div.sk-parallel-item:only-child::after {width: 0;}#sk-container-id-1 div.sk-dashed-wrapped {border: 1px dashed gray;margin: 0 0.4em 0.5em 0.4em;box-sizing: border-box;padding-bottom: 0.4em;background-color: white;}#sk-container-id-1 div.sk-label label {font-family: monospace;font-weight: bold;display: inline-block;line-height: 1.2em;}#sk-container-id-1 div.sk-label-container {text-align: center;}#sk-container-id-1 div.sk-container {/* jupyter's `normalize.less` sets `[hidden] { display: none; }` but bootstrap.min.css set `[hidden] { display: none !important; }` so we also need the `!important` here to be able to override the default hidden behavior on the sphinx rendered scikit-learn.org. See: https://github.com/scikit-learn/scikit-learn/issues/21755 */display: inline-block !important;position: relative;}#sk-container-id-1 div.sk-text-repr-fallback {display: none;}</style><div id=\"sk-container-id-1\" class=\"sk-top-container\"><div class=\"sk-text-repr-fallback\"><pre>DecisionTreeClassifier()</pre><b>In a Jupyter environment, please rerun this cell to show the HTML representation or trust the notebook. <br />On GitHub, the HTML representation is unable to render, please try loading this page with nbviewer.org.</b></div><div class=\"sk-container\" hidden><div class=\"sk-item\"><div class=\"sk-estimator sk-toggleable\"><input class=\"sk-toggleable__control sk-hidden--visually\" id=\"sk-estimator-id-1\" type=\"checkbox\" checked><label for=\"sk-estimator-id-1\" class=\"sk-toggleable__label sk-toggleable__label-arrow\">DecisionTreeClassifier</label><div class=\"sk-toggleable__content\"><pre>DecisionTreeClassifier()</pre></div></div></div></div></div>"
      ],
      "text/plain": [
       "DecisionTreeClassifier()"
      ]
     },
     "execution_count": 35,
     "metadata": {},
     "output_type": "execute_result"
    }
   ],
   "source": [
    "dtc.fit(X_train,y_train)"
   ]
  },
  {
   "cell_type": "code",
   "execution_count": 36,
   "id": "1931506d",
   "metadata": {
    "execution": {
     "iopub.execute_input": "2023-11-03T13:01:26.036072Z",
     "iopub.status.busy": "2023-11-03T13:01:26.035726Z",
     "iopub.status.idle": "2023-11-03T13:01:41.185773Z",
     "shell.execute_reply": "2023-11-03T13:01:41.184762Z"
    },
    "papermill": {
     "duration": 15.184329,
     "end_time": "2023-11-03T13:01:41.188052",
     "exception": false,
     "start_time": "2023-11-03T13:01:26.003723",
     "status": "completed"
    },
    "tags": []
   },
   "outputs": [
    {
     "name": "stdout",
     "output_type": "stream",
     "text": [
      "Score of X-train with Y-train is :  1.0\n",
      "Score of X-test  with Y-test  is :  0.9976735038560555\n",
      "Accuracy score  0.9976735038560555\n",
      "F1 score:  99.76 %\n"
     ]
    }
   ],
   "source": [
    "from sklearn.metrics import accuracy_score, mean_absolute_error ,mean_squared_error, confusion_matrix, median_absolute_error,classification_report, f1_score,recall_score,precision_score\n",
    "\n",
    "print(\"Score of X-train with Y-train is : \", dtc.score(X_train,y_train))\n",
    "print(\"Score of X-test  with Y-test  is : \", dtc.score(X_test,y_test))\n",
    "\n",
    "y_pred=dtc.predict(X_test)\n",
    "\n",
    "print(\"Accuracy score \" , accuracy_score(y_test,y_pred))\n",
    "print(\"F1 score: \", round(f1_score(y_test, y_pred, average='weighted')*100,2),\"%\")"
   ]
  },
  {
   "cell_type": "markdown",
   "id": "93582b22",
   "metadata": {
    "papermill": {
     "duration": 0.030009,
     "end_time": "2023-11-03T13:01:41.248255",
     "exception": false,
     "start_time": "2023-11-03T13:01:41.218246",
     "status": "completed"
    },
    "tags": []
   },
   "source": [
    "# Accuracy score  0.9976268993659925"
   ]
  },
  {
   "cell_type": "code",
   "execution_count": 37,
   "id": "29f56029",
   "metadata": {
    "execution": {
     "iopub.execute_input": "2023-11-03T13:01:41.311671Z",
     "iopub.status.busy": "2023-11-03T13:01:41.311000Z",
     "iopub.status.idle": "2023-11-03T13:01:42.070058Z",
     "shell.execute_reply": "2023-11-03T13:01:42.068991Z"
    },
    "papermill": {
     "duration": 0.793635,
     "end_time": "2023-11-03T13:01:42.072225",
     "exception": false,
     "start_time": "2023-11-03T13:01:41.278590",
     "status": "completed"
    },
    "tags": []
   },
   "outputs": [
    {
     "name": "stdout",
     "output_type": "stream",
     "text": [
      "Classification report : \n",
      "               precision    recall  f1-score   support\n",
      "\n",
      "           1       0.82      0.76      0.79      3066\n",
      "           0       1.00      1.00      1.00    533363\n",
      "\n",
      "    accuracy                           1.00    536429\n",
      "   macro avg       0.91      0.88      0.89    536429\n",
      "weighted avg       1.00      1.00      1.00    536429\n",
      "\n"
     ]
    }
   ],
   "source": [
    "\"\"\"\n",
    "precision = true +ve/total predicted +ve s (how many predicted frauds are actual frauds)\n",
    "recall = true +ve / total actual +ve s  (how many actual frauds were correctly classified as fraud)\n",
    "f1 score = harmonic mean of precision and recall\n",
    "support = no. of acual occurences of each class \n",
    "accuracy = correct prediction/ total predictions\n",
    "\"\"\"\n",
    "class_rep =classification_report(y_test,y_pred,labels=[1,0])\n",
    "\n",
    "# print('Classification report : \\n',class_rep)"
   ]
  }
 ],
 "metadata": {
  "kernelspec": {
   "display_name": "Python 3",
   "language": "python",
   "name": "python3"
  },
  "language_info": {
   "codemirror_mode": {
    "name": "ipython",
    "version": 3
   },
   "file_extension": ".py",
   "mimetype": "text/x-python",
   "name": "python",
   "nbconvert_exporter": "python",
   "pygments_lexer": "ipython3",
   "version": "3.10.12"
  },
  "papermill": {
   "default_parameters": {},
   "duration": 841.920121,
   "end_time": "2023-11-03T13:01:43.991081",
   "environment_variables": {},
   "exception": null,
   "input_path": "__notebook__.ipynb",
   "output_path": "__notebook__.ipynb",
   "parameters": {},
   "start_time": "2023-11-03T12:47:42.070960",
   "version": "2.4.0"
  }
 },
 "nbformat": 4,
 "nbformat_minor": 5
}
